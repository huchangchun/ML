{
 "cells": [
  {
   "cell_type": "markdown",
   "metadata": {},
   "source": [
    "Roadmap:\n",
    "数学：\n",
    "1、线性代数\n",
    "\n",
    "2、概率论\n",
    "\n",
    "机器学习：\n",
    "\n",
    "1、回归：\n",
    "   - lasso\n",
    "   - ridge\n",
    "   - logistic\n",
    "   - Softmax\n",
    "   \n",
    "2、决策树\n",
    "   - 信息熵\n",
    "   - 决策树\n",
    "   - 剪枝\n",
    "   - 集成学习\n",
    "        - Boosting\n",
    "        - Bagging\n",
    "        - Adaboost\n",
    "        - xgboost\n",
    "        \n",
    "3、SVM\n",
    "\n",
    "4、聚类\n",
    "    - K-means\n",
    "    - Mini Batch K-Means\n",
    "    - AGNES\n",
    "    - BIRCH\n",
    "    - DBSCAN\n",
    "    - SC\n",
    "5、贝叶斯\n",
    "\n",
    "6、EM\n",
    "\n",
    "7、HMM\n",
    "\n",
    "8、特征工程\n"
   ]
  },
  {
   "cell_type": "markdown",
   "metadata": {},
   "source": [
    "算法汇总：\n",
    "\n",
    "1、最小二乘\n",
    "\n",
    "2、梯度下降\n",
    "\n",
    "  - 批量梯度下降\n",
    "  - 随机梯度下降\n",
    "  - 小批量梯度下降\n",
    "  \n",
    "3、ID3、C4.5、CART\n",
    "\n",
    "4、拉格朗日乘子法\n",
    "\n",
    "5、SVM序列最小化SMO\n",
    "\n",
    "6、K-Means,MiniBatch、AGNES、BIRCH、DBSCAN、SC\n",
    "\n",
    "7、Boosting\n",
    "\n",
    "8、Bagging\n",
    "\n",
    "9、Adaboost\n",
    "\n",
    "10、xgboost"
   ]
  }
 ],
 "metadata": {
  "kernelspec": {
   "display_name": "Python 3",
   "language": "python",
   "name": "python3"
  },
  "language_info": {
   "codemirror_mode": {
    "name": "ipython",
    "version": 3
   },
   "file_extension": ".py",
   "mimetype": "text/x-python",
   "name": "python",
   "nbconvert_exporter": "python",
   "pygments_lexer": "ipython3",
   "version": "3.6.2"
  }
 },
 "nbformat": 4,
 "nbformat_minor": 2
}
