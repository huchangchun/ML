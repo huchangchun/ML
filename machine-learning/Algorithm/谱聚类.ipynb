{
 "cells": [
  {
   "cell_type": "code",
   "execution_count": 2,
   "metadata": {},
   "outputs": [
    {
     "data": {
      "image/png": "[encoded data removed]",
      "text/plain": [
       "<matplotlib.figure.Figure at 0x5453ed0>"
      ]
     },
     "metadata": {},
     "output_type": "display_data"
    }
   ],
   "source": [
    "import networkx as nx\n",
    "import matplotlib.pyplot as plt\n",
    "%matplotlib inline\n",
    "dg = nx.DiGraph()\n",
    "dg.add_edges_from([(1,2),(1,5),(2,3),(2,5),(5,4),(3,4),(4,6)])\n",
    "pos = nx.spring_layout(dg)\n",
    "nx.draw_networkx_labels(dg,pos,font_size=20,font_color='b')\n",
    "nx.draw(dg,pos,node_size=1500,node_color=\"gray\")"
   ]
  },
  {
   "cell_type": "markdown",
   "metadata": {},
   "source": [
    "拉普拉斯矩阵在线性代数笔记中也有提到 \n",
    "- [矩阵概览](../../notes-linear-algebra/00-矩阵概览.ipynb)\n",
    "\n",
    "也称 基尔霍夫矩阵，是表示图的一种矩阵，给定一个$n$个顶点的图$G=(V,E)$,其拉普拉斯矩阵被定义为：\n",
    "$L = D-W$\n",
    "\n",
    "其中$D$为图的度矩阵，$W$为图的邻接矩阵，其中$\\omega_{ij}$ 定义为节点$i$到节点$j$的权值，如果两个节点不是相连的，权值为零$\\omega_{ij}=0$。邻接矩阵为无向图$\\omega_{ij}=\\omega_{ji}$，即$\\omega$为对称矩阵，且对角线上元素为0(自己与自己的权值为0)。\n",
    "$\n",
    "W=\n",
    "\\begin{bmatrix}\n",
    "0 & 1 & 0 & 0 & 1& 0\\\\\n",
    "1 & 0 & 1 & 0 & 1& 0\\\\\n",
    "0 & 1 & 0 & 1 & 0& 0\\\\\n",
    "0 & 0 & 1& 0 & 1& 1\\\\\n",
    "1 & 1 & 0 & 1 & 0& 0\\\\\n",
    "0 & 0 & 0 & 1 & 0& 0\\\\\n",
    "\\end{bmatrix}\n",
    "$\n",
    "\n",
    "把$W$的每一列元素加起来得到$N$个数，然后把他们放在对角线上然后其它都是零，组成一个$N\\times N$的对角矩阵，记为度矩阵 $D$，如下：\n",
    "$$d_{i}=\\sum_{j=1}^n \\omega_{ij}$$，即行相加\n",
    "$$d_{i} = \\sum_{j=1}^n\\omega_{ij}=\\omega_{i1} + \\omega_{i2}+\\cdots+\\omega_{in}$$\n",
    "\n",
    "$\n",
    "D=\n",
    "\\begin{bmatrix}\n",
    "2 & 0 & 0 & 0 & 0& 0\\\\\n",
    "0 & 3 & 0 & 0 & 0& 0\\\\\n",
    "0 & 0 & 2 & 0 & 0& 0\\\\\n",
    "0 & 0 & 0 & 2 & 0& 0\\\\\n",
    "0 & 0 & 0 & 0 & 3& 0\\\\\n",
    "0 & 0 & 0 & 0 & 0& 1\\\\\n",
    "\\end{bmatrix}\n",
    "$\n",
    "\n",
    "根据拉普拉斯矩阵的定义$L=D-W$\n",
    "$\n",
    "L=\n",
    "\\begin{bmatrix}\n",
    "2 &-1 & 0 & 0 & -1 & 0\\\\\n",
    "-1& 3 & -1 & 0 & -1 & 0\\\\\n",
    " 0 & -1 & 2 & -1 & 0 & 0\\\\\n",
    " 0 & 0 & -1 & 3 & -1 & -1\\\\\n",
    "-1 & -1 & 0 & -1 & 3 & 0\\\\\n",
    " 0 & 0 & 0 & -1 & 0 & 1\\\\\n",
    "\\end{bmatrix}\n",
    "$,\n",
    "\n",
    "$L_{i,j}:=\\begin{cases}deg(v_{i})&  if &i == j &\\\\-1 & if&i != j & and& v_{i}& is &adjacent& to &v_{j}\\\\0 & otherwise\\end{cases}$"
   ]
  },
  {
   "cell_type": "markdown",
   "metadata": {},
   "source": [
    "### 拉普拉斯矩阵的性质\n",
    "首先定义两个概念：\n",
    "1、对于邻接矩阵，定义图中子图之间所有边的权值之和如下：\n",
    "\n",
    "$$\n",
    "W(A,B)：= \\sum_{i \\epsilon A,j \\epsilon B}{\\omega_{ij}}\n",
    "$$,"
   ]
  },
  {
   "cell_type": "code",
   "execution_count": null,
   "metadata": {
    "collapsed": true
   },
   "outputs": [],
   "source": []
  }
 ],
 "metadata": {
  "kernelspec": {
   "display_name": "Python 3",
   "language": "python",
   "name": "python3"
  },
  "language_info": {
   "codemirror_mode": {
    "name": "ipython",
    "version": 3
   },
   "file_extension": ".py",
   "mimetype": "text/x-python",
   "name": "python",
   "nbconvert_exporter": "python",
   "pygments_lexer": "ipython3",
   "version": "3.6.2"
  }
 },
 "nbformat": 4,
 "nbformat_minor": 2
}
