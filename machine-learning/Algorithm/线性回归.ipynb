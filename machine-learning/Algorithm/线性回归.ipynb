{
 "cells": [
  {
   "cell_type": "markdown",
   "metadata": {},
   "source": [
    "# 线性回归"
   ]
  },
  {
   "cell_type": "markdown",
   "metadata": {},
   "source": [
    "线性回归一般通过最小二乘法和梯度下降求解，这里讲解最小二乘法的方法"
   ]
  },
  {
   "cell_type": "markdown",
   "metadata": {},
   "source": [
    "假设dataset中有 $m$ 个样本，每个样本有 $n$ 个特征,其中 $i$ 表示第$i$个样本,$j$ 表示样本中第 $j$ 个特征\n",
    "\n",
    "一般线性回归函数的假设函数（hypothesis function）:\n",
    "    $$\n",
    "    h_{\\theta}(x)= \\theta_{0} + \\theta_{1}x_{1} +\\cdots + \\theta_{n}x_{n}\n",
    "    =\\sum_{j=0}^n \\theta_{j}x_{j} = \\theta^Tx\n",
    "    $$\n",
    "\n",
    "最终要求计算出 $\\theta$的值，并选择最优的$\\theta$值构成算法公式\n",
    "\n",
    "对应的损失函数为：\n",
    "\n",
    "\n",
    "$$\n",
    "loss(y_{j},\\hat y_{j})=J(\\theta)=\\frac{1}{2} \\sum_{i=1}^m \\left( h_{\\theta}(x^{(i)}) - y^{(i)} \\right)^2=\n",
    "\\frac{1}{2}(X\\theta-Y)^T(X\\theta-Y)\n",
    "$$\n",
    "\n",
    "直接对目标函数求导：\n",
    "\n",
    "$$\n",
    "\\nabla_{\\theta} J(\\theta)=\\nabla_{\\theta}\\frac{1}{2}(X\\theta-Y)^T(X\\theta-Y)\\\\=\\nabla_{\\theta}\\frac{1}{2}\\left((X^T(\\theta)^T-Y^T)(X\\theta-Y\\right)\\\\=\\frac{1}{2}\\left((2X^TX\\theta-X^Y-(Y^TX)^T)\\right)\\\\=X^TX\\theta-X^TY\n",
    "$$\n",
    "\n",
    "令: $X^TX\\theta-X^TY =0$\n",
    "\n",
    "即: $X^TX\\theta=X^TY$,\n",
    "\n",
    "等式两边都左乘$(X^TX)^{-1}$\n",
    "\n",
    "得：\n",
    "$\n",
    "\\theta = (X^TX)^{-1}X^TY\n",
    "$"
   ]
  },
  {
   "cell_type": "markdown",
   "metadata": {},
   "source": [
    "## 最小二乘法的参数最优解：\n",
    "\n",
    "$$\n",
    "\\theta = (X^TX)^{-1}X^TY\n",
    "$$\n",
    "\n",
    "注意：最小二乘法的使用要求矩阵$X^TX$是可逆的，为了防止不可逆或者过拟合的问题存在，可以增加额外的数据影响，导致最终的矩阵是可逆的：\n",
    "\n",
    "$$\n",
    "\\theta = \\left((X^TX) + \\lambda I\\right) ^{-1}X^TY\n",
    "$$\n",
    "\n",
    "最小二乘法直接求解的难点：矩阵逆的求解是一个难处"
   ]
  },
  {
   "cell_type": "markdown",
   "metadata": {},
   "source": [
    "实例："
   ]
  },
  {
   "cell_type": "code",
   "execution_count": 9,
   "metadata": {},
   "outputs": [
    {
     "name": "stdout",
     "output_type": "stream",
     "text": [
      "[[ 0.04994737]\n",
      " [-0.35736842]\n",
      " [ 1.74052632]]\n"
     ]
    }
   ],
   "source": [
    "import numpy as np\n",
    "X = np.mat([[10,1,1],[20,1,1],[30,2,1],[70,3,1],[70,2,1],[30,2,1]])\n",
    "Y = np.mat([[0.8],[1.8],[2.2],[2.5],[5.5],[5.2]])\n",
    "theta= (X.T*X).I * X.T *Y\n",
    "print(theta)"
   ]
  },
  {
   "cell_type": "code",
   "execution_count": 19,
   "metadata": {},
   "outputs": [
    {
     "name": "stdout",
     "output_type": "stream",
     "text": [
      "[[1.93257895]\n",
      " [1.62515789]\n",
      " [1.67510526]\n",
      " [1.36768421]\n",
      " [1.41763158]\n",
      " [1.82494737]]\n"
     ]
    }
   ],
   "source": [
    "X_test = np.mat([[11,1,1],[12,2,1],[13,2,1],[14,3,1],[15,3,1],[16,2,1]])\n",
    "print(X_test.dot(theta))"
   ]
  }
 ],
 "metadata": {
  "kernelspec": {
   "display_name": "Python 3",
   "language": "python",
   "name": "python3"
  },
  "language_info": {
   "codemirror_mode": {
    "name": "ipython",
    "version": 3
   },
   "file_extension": ".py",
   "mimetype": "text/x-python",
   "name": "python",
   "nbconvert_exporter": "python",
   "pygments_lexer": "ipython3",
   "version": "3.6.2"
  }
 },
 "nbformat": 4,
 "nbformat_minor": 2
}
