{
 "cells": [
  {
   "cell_type": "code",
   "execution_count": 76,
   "metadata": {
    "collapsed": true
   },
   "outputs": [],
   "source": [
    "import sklearn\n",
    "from sklearn.model_selection import train_test_split\n",
    "from sklearn.linear_model import LinearRegression\n",
    "from sklearn.preprocessing import StandardScaler\n",
    "import numpy as np\n",
    "import matplotlib as mpl\n",
    "import matplotlib.pyplot as plt\n",
    "import pandas as pd\n",
    "from pandas import DataFrame\n",
    "import time"
   ]
  },
  {
   "cell_type": "code",
   "execution_count": 77,
   "metadata": {},
   "outputs": [],
   "source": [
    "## 设置字符集，防止中文乱码\n",
    "mpl.rcParams['font.sans-serif']=[u'simHei']\n",
    "mpl.rcParams['axes.unicode_minus']=False"
   ]
  },
  {
   "cell_type": "code",
   "execution_count": 78,
   "metadata": {
    "collapsed": true
   },
   "outputs": [],
   "source": [
    "#定义一个函数输出mse和rmse\n",
    "def rmm(y_true,y_predict):\n",
    "    mse = np.power(y_true-y_predict,2).mean() #平方后做均值,np.Power可以对矩阵运行，mse得出一个矩阵\n",
    "    return mse"
   ]
  },
  {
   "cell_type": "code",
   "execution_count": 79,
   "metadata": {},
   "outputs": [],
   "source": [
    "#读取数据，以逗号分割\n",
    "path = './datas/ai_train1801.csv'\n",
    "df = pd.read_csv(path,sep=',')\n",
    "# df.head()\n",
    "# df.describe()\n",
    "# df.info()"
   ]
  },
  {
   "cell_type": "code",
   "execution_count": 80,
   "metadata": {},
   "outputs": [
    {
     "name": "stdout",
     "output_type": "stream",
     "text": [
      "训练集 0.190889406216\n",
      "测试集 0.169061634841\n"
     ]
    },
    {
     "name": "stderr",
     "output_type": "stream",
     "text": [
      "C:\\ProgramData\\Anaconda3\\lib\\site-packages\\sklearn\\model_selection\\_split.py:2026: FutureWarning: From version 0.21, test_size will always complement train_size unless both are specified.\n",
      "  FutureWarning)\n"
     ]
    }
   ],
   "source": [
    "#提取x,y\n",
    "x = df.drop(['血糖'],axis=1,inplace=False) #axis =1按列丢掉血糖inplace=False 原数据不变\n",
    "y = df['血糖']\n",
    "#数据分割\n",
    "x_train,x_test,y_train,y_test = train_test_split(x,y,train_size=0.8,random_state= 123) #train_size:训练集占总数据量个数，random_state？\n",
    "#数据标准化\n",
    "ss = StandardScaler()\n",
    "x_train = ss.fit_transform(x_train) #训练集计算得到均值和标准差\n",
    "x_test = ss.transform(x_test)\n",
    "#建模--线性回归\n",
    "linear = LinearRegression()\n",
    "linear.fit(x_train,y_train) #训练集\n",
    "print('训练集',linear.score(x_train,y_train))\n",
    "print('测试集',linear.score(x_test,y_test))"
   ]
  },
  {
   "cell_type": "code",
   "execution_count": 85,
   "metadata": {},
   "outputs": [
    {
     "name": "stdout",
     "output_type": "stream",
     "text": [
      "模型的截距项： 5.46939502318\n",
      "测试集的mse: 0.7414070691681303\n",
      "模型的系数（theta）： [('年龄', 0.31658129761729348), ('*天门冬氨酸氨基转换酶', -0.076670144107153643), ('*丙氨酸氨基转换酶', 0.10069836216987235), ('*碱性磷酸酶', 0.034411432295230034), ('*r-谷氨酰基转换酶', 0.056651537748749148), ('*总蛋白', 94619775507.620651), ('白蛋白', -61231401018.226715), ('*球蛋白', -81219399240.460922), ('白球比例', 0.15804002176665322), ('甘油三酯', 0.09332275390625), ('总胆固醇', -0.13266205787658691), ('高密度脂蛋白胆固醇', 0.035196304321289063), ('低密度脂蛋白胆固醇', 0.15928840637207031), ('尿素', 0.060603737831115723), ('肌酐', -0.027199745178222656), ('尿酸', -0.082508087158203125), ('白细胞计数', 0.078876495361328125), ('红细胞计数', -0.31732273101806641), ('血红蛋白', -0.57275962829589844), ('红细胞压积', 0.7742767333984375), ('红细胞平均体积', -1.0163173675537109), ('红细胞平均血红蛋白量', 1.0486965179443359), ('红细胞平均血红蛋白浓度', -0.39906787872314453), ('红细胞体积分布宽度', -0.085866928100585938), ('血小板计数', -0.14235305786132813), ('血小板平均体积', -0.091949462890625), ('血小板体积分布宽度', 0.049982070922851563), ('血小板比积', 0.10743141174316406), ('中性粒细胞%', 0.5571441650390625), ('淋巴细胞%', 0.5031280517578125), ('单核细胞%', 0.10265350341796875), ('嗜酸细胞%', 0.094654083251953125), ('嗜碱细胞%', 0.01322174072265625), ('gender_女', 1590978432048.5703), ('gender_男', 1590978432048.6953)]\n"
     ]
    }
   ],
   "source": [
    "y_test_hat = linear.predict(x_test) #预测测试集的y\n",
    "#linear的属性\n",
    "\n",
    "print('模型的截距项：',linear.intercept_)\n",
    "print('测试集的mse:',rmm(y_test,y_test_hat))\n",
    "name = list(x.columns)\n",
    "# print('模型的系数（theta）：',linear.coef_)\n",
    "print('模型的系数（theta）：',list(zip(name,linear.coef_)))"
   ]
  },
  {
   "cell_type": "code",
   "execution_count": null,
   "metadata": {},
   "outputs": [],
   "source": []
  }
 ],
 "metadata": {
  "kernelspec": {
   "display_name": "Python 3",
   "language": "python",
   "name": "python3"
  },
  "language_info": {
   "codemirror_mode": {
    "name": "ipython",
    "version": 3
   },
   "file_extension": ".py",
   "mimetype": "text/x-python",
   "name": "python",
   "nbconvert_exporter": "python",
   "pygments_lexer": "ipython3",
   "version": "3.6.3"
  }
 },
 "nbformat": 4,
 "nbformat_minor": 2
}
