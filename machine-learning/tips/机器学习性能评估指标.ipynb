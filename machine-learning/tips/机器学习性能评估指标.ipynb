{
 "cells": [
  {
   "cell_type": "markdown",
   "metadata": {},
   "source": [
    "![](./pics/criteria.png)"
   ]
  },
  {
   "cell_type": "markdown",
   "metadata": {},
   "source": [
    "## 混淆矩阵"
   ]
  },
  {
   "cell_type": "markdown",
   "metadata": {},
   "source": [
    "- True Positive(真正，TP) :将正类预测为正类数\n",
    "- True Negative(真负，TN): 将负类预测为负类数\n",
    "- False Postive(假正，FP): 将负类预测为正类数 （误判）\n",
    "- False Negative(假负，FN)：将正类预测为负类数 （漏判）"
   ]
  },
  {
   "cell_type": "markdown",
   "metadata": {},
   "source": [
    "## Accuracy(准确率)"
   ]
  },
  {
   "cell_type": "markdown",
   "metadata": {},
   "source": [
    "$$\n",
    "\\begin{aligned}\n",
    "Acc = \\frac{TP+TN}{TP+TN+FP+FN}\n",
    "\\end{aligned}\n",
    "$$\n"
   ]
  },
  {
   "cell_type": "markdown",
   "metadata": {},
   "source": [
    "## Precision（精确率）"
   ]
  },
  {
   "cell_type": "markdown",
   "metadata": {},
   "source": [
    "$$\n",
    "\\begin{aligned}\n",
    "Acc = \\frac{TP}{TP+FP}\n",
    "\\end{aligned}\n",
    "$$"
   ]
  },
  {
   "cell_type": "markdown",
   "metadata": {},
   "source": [
    "## Recall(召回率)"
   ]
  },
  {
   "cell_type": "markdown",
   "metadata": {},
   "source": [
    "$$\n",
    "\\begin{aligned}\n",
    "Acc = \\frac{TP}{TP+FN}\n",
    "\\end{aligned}\n",
    "$$"
   ]
  },
  {
   "cell_type": "markdown",
   "metadata": {},
   "source": [
    "## F1-Score"
   ]
  },
  {
   "cell_type": "markdown",
   "metadata": {},
   "source": [
    "是精确率和召回率的调和均值：\n",
    "$$\n",
    "\\begin{aligned}\n",
    "Acc = \\frac{2 P*Acc}{P+Acc}\n",
    "\\end{aligned}\n",
    "$$"
   ]
  },
  {
   "cell_type": "markdown",
   "metadata": {},
   "source": [
    "举例说明：\n",
    "假设我们手上有60个正样本，40个负样本，我们要找出所有的正样本，系统查出50个，其中只有40个是真正的正样本，计算上述指标\n",
    "\n",
    "- TP:将正类预测为正类数：40\n",
    "- FN:将正类预测为负类数：20   TP + FN = 所有正样本，同理FP+ TN = 所有负样本\n",
    "- FP:将负类预测为正类数：10 ，结果中50个中有10个是负类的，所以这10个是被误判的\n",
    "- TN:将负类预测为负类数：30 ,结果中50个中有10个是负类的，因此被正确预测为负类的是40-10\n",
    "\n",
    "    \n",
    "- 准确率 = 真正预测对的正负样本/所有样本 = （TP+FN）/(TP+TN+FP+FN) = (40+30)/100 = 70%   ，也就是找的对\n",
    "\n",
    "\n",
    "- 精确率 = 真正预测对的正样本/预测的正样本 = TP/（TP+FP） = 40/(40+10) = 80%\n",
    "\n",
    "\n",
    "- 召回率 = 真正预测对的正样本/所有正样本 = TP/(TP+FN) = 40/(40+20)= $\\frac{2}{3}$ ,也可以说是找的全\n",
    "\n",
    "那为什么要有F1值呢\n",
    "\n",
    "比如上个例子中，系统查出了80个，其中60个真正的样本，这时候100%召回了，精确率为60/80  = 75%，比上面例子中的精确率还低5%,再扩大系统查出的比例，这时候召回率仍是100%，但\n",
    "精确率却在一直下降，所以精确率太低，就算召回率是100%,实际预测效果也不好，所以说百分百召回的算法不一定是最优算法，因此F1 Score就显得尤为重要，F1 Score就是精确率与召回率的调和平均数（Harmonic mean）"
   ]
  }
 ],
 "metadata": {
  "kernelspec": {
   "display_name": "Python 3",
   "language": "python",
   "name": "python3"
  },
  "language_info": {
   "codemirror_mode": {
    "name": "ipython",
    "version": 3
   },
   "file_extension": ".py",
   "mimetype": "text/x-python",
   "name": "python",
   "nbconvert_exporter": "python",
   "pygments_lexer": "ipython3",
   "version": "3.6.2"
  }
 },
 "nbformat": 4,
 "nbformat_minor": 2
}
