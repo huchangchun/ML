{
 "cells": [
  {
   "cell_type": "markdown",
   "metadata": {},
   "source": [
    "# 第四讲：A的LU分解"
   ]
  },
  {
   "cell_type": "markdown",
   "metadata": {},
   "source": [
    "$AB$两矩阵相乘，且它们的逆均已知，那么$AB$的逆矩阵如何求：\n",
    "其积$AB$乘以什么可以得到单位矩阵：\n",
    "\n",
    "$$\n",
    "\\begin{aligned}\n",
    "A \\cdot A^{-1} = I & = A^{-1} \\cdot A\\\\\n",
    "(AB) \\cdot (B^{-1}A^{-1}) & = I\\\\\n",
    "\\textrm{则} AB \\textrm{的逆矩阵为} & B^{-1}A^{-1}\n",
    "\\end{aligned}\n",
    "$$\n",
    "\n",
    "$A^{T}$的逆矩阵：\n",
    "\n",
    "$$\n",
    "\\begin{aligned}\n",
    "(A \\cdot A^{-1}){T} & = I ^ {T}\\\\\n",
    "(A^{-1})^{T} \\cdot A^{T} & = I\\\\\n",
    "\\textrm{则} A^{T}\\textrm{的逆矩阵为} &(A^{-1})^{T}\n",
    "\\end{aligned}\n",
    "$$"
   ]
  },
  {
   "cell_type": "markdown",
   "metadata": {},
   "source": [
    "- 置换矩阵（Permutation Matrix）：\n",
    "\n",
    "3阶方阵的置换矩阵有6个：\n",
    "$$\n",
    "\\textrm{单位矩阵} \n",
    "$$\n",
    "$$\n",
    "\\begin{bmatrix}\n",
    "1 & 0 & 0 \\\\\n",
    "0 & 1 & 0 \\\\\n",
    "0 & 0 & 0 \\\\\n",
    "\\end{bmatrix}\n",
    "$$\n",
    "\n",
    "$$\n",
    "\\textrm{row1<->row2} \n",
    "$$\n",
    "$$\n",
    "\\begin{bmatrix}\n",
    "0 & 1 & 0 \\\\\n",
    "1 & 0 & 0 \\\\\n",
    "0 & 0 & 1 \\\\\n",
    "\\end{bmatrix}\n",
    "$$\n",
    "\n",
    "$$\n",
    "\\textrm{row1<->row3} \n",
    "$$\n",
    "$$\n",
    "\\begin{bmatrix}\n",
    "0 & 0 & 1 \\\\\n",
    "0 & 1 & 0 \\\\\n",
    "1 & 0 & 0 \\\\\n",
    "\\end{bmatrix}\n",
    "$$\n",
    "\n",
    "$$\n",
    "\\textrm{row2<->row3} \n",
    "$$\n",
    "$$\n",
    "\\begin{bmatrix}\n",
    "1 & 0 & 0 \\\\\n",
    "0 & 0 & 1 \\\\\n",
    "0 & 1 & 0 \\\\\n",
    "\\end{bmatrix}\n",
    "$$\n",
    "\n",
    "$$\n",
    "\\textrm{row1->row3,row3->row2} \n",
    "$$\n",
    "$$\n",
    "\\begin{bmatrix}\n",
    "0 & 1 & 0 \\\\\n",
    "0 & 0 & 1 \\\\\n",
    "1 & 0 & 0 \\\\\n",
    "\\end{bmatrix}\n",
    "$$\n",
    "\n",
    "$$\n",
    "\\textrm{row1->row2,row2->row3,row3->row1} \n",
    "$$\n",
    "$$\n",
    "\\begin{bmatrix}\n",
    "0 & 0 & 1 \\\\\n",
    "1 & 0 & 0 \\\\\n",
    "0 & 1 & 0 \\\\\n",
    "\\end{bmatrix}\n",
    "$$\n",
    "\n",
    "$N$阶方阵的置换矩阵有$\\binom{n}{1}=n!$个"
   ]
  },
  {
   "cell_type": "code",
   "execution_count": null,
   "metadata": {
    "collapsed": true
   },
   "outputs": [],
   "source": [
    "\n"
   ]
  }
 ],
 "metadata": {
  "kernelspec": {
   "display_name": "Python 3",
   "language": "python",
   "name": "python3"
  },
  "language_info": {
   "codemirror_mode": {
    "name": "ipython",
    "version": 3
   },
   "file_extension": ".py",
   "mimetype": "text/x-python",
   "name": "python",
   "nbconvert_exporter": "python",
   "pygments_lexer": "ipython3",
   "version": "3.6.3"
  }
 },
 "nbformat": 4,
 "nbformat_minor": 2
}
