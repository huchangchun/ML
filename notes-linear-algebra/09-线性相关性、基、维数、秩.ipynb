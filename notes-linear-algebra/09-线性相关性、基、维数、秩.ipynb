{
 "cells": [
  {
   "cell_type": "markdown",
   "metadata": {},
   "source": [
    "## 第九讲：线性相关性、基、维数、秩"
   ]
  },
  {
   "cell_type": "markdown",
   "metadata": {},
   "source": [
    "本课是关键性的一课，将学习\"线性无关（linear independent）\",以及\"线性相关linear dependent\"\n",
    "什么是向量空间的\"基\"？什么是子空间的\"维数\""
   ]
  },
  {
   "cell_type": "markdown",
   "metadata": {},
   "source": [
    "### 秩："
   ]
  },
  {
   "cell_type": "markdown",
   "metadata": {},
   "source": [
    "一个矩阵A的列秩是 A的线性无关的纵列的极大数目。类似地，行秩是 A的线性无关的横行的极大数目。\n",
    "\n",
    "矩阵的列秩和行秩总是相等的，因此它们可以简单地称作矩阵 A的秩。通常表示为 rk(A) 或 rank A。\n",
    "$ m× n$矩阵的秩最大为 $m和 n$中的较小者。有尽可能大的秩的矩阵被称为有满秩；类似的，否则矩阵是秩不足的。\n",
    "所以矩阵列空间、行空间的维度相等，并且为矩阵的秩不是偶合而是必然的。任意一个矩阵都可以经过一系列的初等行变换为阶梯形矩阵，而阶梯形矩阵的秩对于其中非零行的个数。\n",
    "\n",
    "所以矩阵秩的计算方法：用初等行变换把矩阵化为阶梯形，则该阶梯形矩阵中的非零行数就是所求矩阵的秩\n",
    " "
   ]
  },
  {
   "cell_type": "markdown",
   "metadata": {},
   "source": [
    "### 线性相关性："
   ]
  },
  {
   "cell_type": "markdown",
   "metadata": {
    "collapsed": true
   },
   "source": [
    "必须强调一点:向量组是存在线性无关的，但不会说一个矩阵是线性无关的；线性相关性并不是对矩阵来说的，也没有规定向量必须在n维空间里面，我们可以把向量放到矩阵里面，然后将向量组的线形相关性和矩阵的零空间联系起来；"
   ]
  },
  {
   "cell_type": "markdown",
   "metadata": {},
   "source": [
    "什么是向量组线性无关性：why Vectors $x_{1},x_{2},\\cdots,x_{n}$ are independent ?\n",
    "即不存在结果为0向量的组合，去掉一种系数全部为0的情况，向量组线性无关，这表示：任何\n",
    "$c_{1}x_{1}+c_{2}x_{2}+\\cdots+c_{n}x_{n} \\neq 0$ 除非$c_{1},c_{2}\\cdots c_{n}$全部为0,存在其它使之为0的组合吗？如果不存在，则向量组是线性无关的。如果存在，则向量组是线性相关的；平面内的三个向量一定是线性相关的；"
   ]
  },
  {
   "cell_type": "markdown",
   "metadata": {
    "collapsed": true
   },
   "source": [
    "$v_1,\\ v_2,\\ \\cdots,\\ v_n$是$m\\times n$矩阵$A$的列向量：\n",
    "- 如果向量间是线性无关，则矩阵$A$的零空间中有且只有零向量，$rank(A)=n$，所有的列都是主列，共有n个，没有自由变量，因为自由列的实质在于：它们是主列的一种线性组合；\n",
    "- 如果向量间是线性相关，则矩阵$A$的零空间中存在非零向量$c$使得$Ac=0$，$rank(A)<n$，因为存在列的线形组合，即存在自由变量；"
   ]
  },
  {
   "cell_type": "markdown",
   "metadata": {},
   "source": [
    "### 基、维数：\n",
    "假设Vectors $x_{1},x_{2},\\cdots,x_{n}$ 生成一个空间$S$，即空间$S$包含这些向量的所有线性组合,且$S$是包含这些向量空间中最小的一个，因为任何包含这些向量的空间，必须包含向量组的所有线性组合，这个空间就是向量组的生成空间；\n",
    "向量的一组基（Basis of Vector）表示一系列的向量Vectors $x_{1},x_{2},\\cdots,x_{n}$这些向量有两个性质：\n",
    "- 1.它们是线性无关的\n",
    "- 2.它们可以生成空间$S$\n",
    "\n",
    "举例：向量空间$\\mathbb{R}^3$,则这个三维空间的一组基是可以是：\n",
    "$$\n",
    "\\begin{bmatrix}\n",
    "1 & 0 & 0 \\\\\n",
    "0 & 1 & 0 \\\\\n",
    "0 & 0 & 1 \\\\\n",
    "\\end{bmatrix}\n",
    "$$，它们线性无关，就像$x,y,z$轴，取$c_{1}col_{1}+c_{2}col_{2}+c_{3}col_{3}=0$时，$c$必须为0才行\n",
    "\n",
    "对于向量空间$\\mathbb{R}^n$,空间中任意基都满足此性质：如果$n$个向量组成的矩阵为可逆矩阵，则这$n$个向量为该空间的一组基，基向量的个数等于向量的个数$n$，个数$n$就是该空间的维数（$demension$），$rank(A)=n=主元存在的列数=列空间维数$\n",
    "\n",
    "举例：\n",
    "$\n",
    "A=\n",
    "\\begin{bmatrix}\n",
    "1 & 2 & 3 & 1 \\\\\n",
    "1 & 1 & 2 & 1 \\\\\n",
    "1 & 2 & 3 & 1 \\\\\n",
    "\\end{bmatrix}\n",
    "$\n",
    "A的列向量线性相关，其零空间中有非零向量，那怎么求这个列空间的基？\n",
    "\n",
    "\n",
    "$\n",
    "A=\n",
    "\\begin{bmatrix}\n",
    "1 & 2 \\\\\n",
    "1 & 1 \\\\\n",
    "1 & 2 \\\\\n",
    "\\end{bmatrix}\n",
    "$,就是其中一组基，因为这两组列向量线形无关，\n",
    "\n",
    "可以很容易的求得$Ax=0$的两个解，如\n",
    "$\n",
    "x_1=\n",
    "\\begin{bmatrix}\n",
    "-1 \\\\\n",
    "-1 \\\\\n",
    "1 \\\\\n",
    "0 \\\\\n",
    "\\end{bmatrix}, \n",
    "x_2=\n",
    "\\begin{bmatrix}\n",
    "-1 \\\\\n",
    "0 \\\\\n",
    "0 \\\\\n",
    "1 \\\\\n",
    "\\end{bmatrix}\n",
    "$\n",
    "\n",
    "我们知道特解的个数就是自由变量的个数，而这两个特解组成了零空间的基，所以$n-rank(A)=2=自由变量存在的列数=零空间维数$\n",
    "- 列空间维数$dim C(A)=rank(A)$\n",
    "- 零空间维数$dim N(A)=n-rank(A)$"
   ]
  },
  {
   "cell_type": "code",
   "execution_count": null,
   "metadata": {
    "collapsed": true
   },
   "outputs": [],
   "source": []
  }
 ],
 "metadata": {
  "kernelspec": {
   "display_name": "Python 3",
   "language": "python",
   "name": "python3"
  },
  "language_info": {
   "codemirror_mode": {
    "name": "ipython",
    "version": 3
   },
   "file_extension": ".py",
   "mimetype": "text/x-python",
   "name": "python",
   "nbconvert_exporter": "python",
   "pygments_lexer": "ipython3",
   "version": "3.6.2"
  }
 },
 "nbformat": 4,
 "nbformat_minor": 2
}
