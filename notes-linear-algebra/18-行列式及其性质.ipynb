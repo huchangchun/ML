{
 "cells": [
  {
   "cell_type": "markdown",
   "metadata": {},
   "source": [
    "# 行列式及其性质"
   ]
  },
  {
   "cell_type": "markdown",
   "metadata": {},
   "source": [
    "行列式的直观理解：\n",
    "\n",
    "比如矩阵$\\begin{bmatrix}3&0\\\\0&2\\end{bmatrix}$它将$\\hat i$伸长为原来的3倍，将$\\hat j$伸长为\n",
    "原来的2倍，现在如果我们关注以$\\hat i， \\hat j$为基向量形成单位为1的正方形，在变换之后，它会\n",
    "变成一个$2 \\times 3$的长方形，因为这个区域开始面积为1，最终面积为6，所以我们说这个线性变换\n",
    "将它的面积变为6倍。这个缩放比例，即线性变换对面积产生改变的比例，被称为这个变换的行列式。\n",
    "首先矩阵表示的是线性变换，而线性变换的行列式表示了空间的压缩、拉伸或挤压的程度。\n",
    "\n",
    "对于二维空间，线性变换的行列式代表面积的缩放，当行列式为0，表示空间被压缩为一个点或者一条直线，当行列式为负数是表示了空间还发生了旋转；\n",
    "\n",
    "对于三维空间，线性变换的行列式代表了空间体积的缩放；"
   ]
  },
  {
   "cell_type": "markdown",
   "metadata": {},
   "source": [
    "对于上面的线形变换的行列式，可以表示为：\n",
    "\n",
    "$det \\begin{vmatrix}a&b\\\\c&d\\end{vmatrix}= ad - bc$，我们已经知道行列式代表了空间的变化比例，我们也可以通过直观的面积计算来得出这个公式：\n",
    "\n",
    "![推导](./pics/determinant.jpg)"
   ]
  },
  {
   "cell_type": "markdown",
   "metadata": {},
   "source": [
    "行列式（determinant）的性质：\n",
    "\n",
    "1.$det I = 1$,单位矩阵行列式值为1.(通过单位矩阵线性变换后没有变化）\n",
    "\n",
    "2.交换行行列式变号。(交换行之后线性变换将发生旋转，行列式可能又负变正或由正变负)\n",
    "\n",
    "3.a.如果我们在一行上乘上一个t，行列式结果就乘以t:\n",
    "\n",
    "$$\\begin{vmatrix}ta&tb\\\\c&d\\end{vmatrix} =t\\begin{vmatrix}a&b\\\\c&d\\end{vmatrix}$$\n",
    "\n",
    "b.行列式表现为行的线形函数：\n",
    "    $$\\begin{vmatrix}a+a'&b+b'\\\\c&d\\end{vmatrix}=\\begin{vmatrix}a&b\\\\c&d\\end{vmatrix}+\\begin{vmatrix}a'&b'\\\\c&d\\end{vmatrix}$$\n",
    "\n",
    "4.如果矩阵的两行相等，则行列式为0.这可以通过性质2得到，一方面行交换没有改变行列式，另一方面，行交换会改变行列式的符号，因此行列式必须为0\n",
    "\n",
    "5.如果$i \\neq j$,在$j$行减去$t$倍的$i$行，不改变行列式：\n",
    "\n",
    "在二维空间中，就像这样：\n",
    "\n",
    "$$\\begin{vmatrix}a&b\\\\c-ta&d-tb\\end{vmatrix}=\\begin{vmatrix}a&b\\\\c&d\\end{vmatrix}-\\begin{vmatrix}a&b\\\\ta&tb\\end{vmatrix}    >property(3b)\\\\=\\begin{vmatrix}a&b\\\\c&d\\end{vmatrix} -t\\begin{vmatrix}a&b\\\\a&b\\end{vmatrix} >property(3a)\\\\\n",
    "=\\begin{vmatrix}a&b\\\\c&d\\end{vmatrix} >property(4)\n",
    "$$\n",
    "\n",
    "高维的矩阵也是相识的推导过程"
   ]
  },
  {
   "cell_type": "markdown",
   "metadata": {},
   "source": [
    "6.如果矩阵A有一行全为0，则$det A = 0$,通过性质3(a)让$t = 0$"
   ]
  },
  {
   "cell_type": "markdown",
   "metadata": {},
   "source": [
    "7.有上三角行列式$U=\\begin{vmatrix}d_{1}&*&\\cdots&*\\\\0&d_{2}&\\cdots&*\\\\\\vdots&\\vdots&\\ddots&\\vdots\\\\0&0&\\cdots&d_{n}\\end{vmatrix}$，则$\\det U=d_1d_2\\cdots d_n$。使用性质5，从最后一行开始，将对角元素上方的$*$元素依次变为零，可以得到型为$D=\\begin{vmatrix}d_{1}&0&\\cdots&0\\\\0&d_{2}&\\cdots&0\\\\\\vdots&\\vdots&\\ddots&\\vdots\\\\0&0&\\cdots&d_{n}\\end{vmatrix}$的对角行列式，再使用性质3将对角元素提出得到$d_nd_{n-1}\\cdots d_1\\begin{vmatrix}1&0&\\cdots&0\\\\0&1&\\cdots&0\\\\\\vdots&\\vdots&\\ddots&\\vdots\\\\0&0&\\cdots&1\\end{vmatrix}$，得证。"
   ]
  },
  {
   "cell_type": "markdown",
   "metadata": {},
   "source": [
    "8.$det A = 0$时矩阵为奇异矩阵（singular matrix）\n",
    "如果A是奇异矩阵，我们可以通过消元得到一行0，性质6告诉我们行列式为0，\n",
    "如果A为非奇异矩阵，消元产生满秩的主元$d_1,d_2,\\cdots ,d_n$,并且行列式为$d_1d_2\\cdots d_n \\neq 0$\n",
    "\n",
    "我们对求非奇异矩阵行列式已经非常有经验了，实际上计算机计算大型矩阵行列式首先进行消元，然后再把主元进行相乘：\n",
    "\n",
    "$\\begin{bmatrix}a&b\\\\c&d \\end{bmatrix}\\xrightarrow{消元}\\begin{bmatrix}a&b\\\\0&d-\\frac{c}{a}b\\end{bmatrix}$\n",
    "\n",
    "$\\begin{vmatrix}a&b\\\\c&d\\end{vmatrix}=\\begin{vmatrix}a&b\\\\0&d-\\frac{c}{a}b\\end{vmatrix} = ad-bc$"
   ]
  },
  {
   "cell_type": "markdown",
   "metadata": {},
   "source": [
    "9.$det AB = (det A)(det B)$\n",
    "\n",
    "这个非常有用，尽管行列式不满足加法的结合律，但是满足乘法的结合律，\n",
    "使用这一性质，$\\det I=\\det{A^{-1}A}=\\det A^{-1}\\det A$，所以$\\det A^{-1}=\\frac{1}{\\det A}$。\n",
    "\n",
    "同时还可以得到：$\\det A^2=(\\det A)^2$，以及$\\det 2A=2^n\\det A$，这个式子就像是求体积，对三维物体有每边翻倍则体积变为原来的八倍。\n"
   ]
  },
  {
   "cell_type": "markdown",
   "metadata": {},
   "source": [
    "10.$\\det A^T=\\det A$，前面一直在关注行的属性给行列式带来的变化，有了这条性质，行的属性同样适用于列，比如对性质2就有“交换列行列式变号”。\n",
    "    证明：\n",
    "    $\\left|A^T\\right|=\\left|A\\right|\\rightarrow\\left|U^TL^T\\right|=\\left|LU\\right|\\rightarrow\\left|U^T\\right|\\left|L^T\\right|=\\left|L\\right|\\left|U\\right|$，值得注意的是，$L, U$的行列式并不因为转置而改变，得证。"
   ]
  }
 ],
 "metadata": {
  "kernelspec": {
   "display_name": "Python 3",
   "language": "python",
   "name": "python3"
  },
  "language_info": {
   "codemirror_mode": {
    "name": "ipython",
    "version": 3
   },
   "file_extension": ".py",
   "mimetype": "text/x-python",
   "name": "python",
   "nbconvert_exporter": "python",
   "pygments_lexer": "ipython3",
   "version": "3.6.2"
  }
 },
 "nbformat": 4,
 "nbformat_minor": 2
}
