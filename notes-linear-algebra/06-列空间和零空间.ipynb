{
 "cells": [
  {
   "cell_type": "markdown",
   "metadata": {},
   "source": [
    "# 第六讲：列空间和零空间"
   ]
  },
  {
   "cell_type": "markdown",
   "metadata": {},
   "source": [
    "对向量子空间$S$和$T$，有$S \\cap T$也是向量子空间。任意穿过原点的平面构成子空间，子空间还可以是穿过原点的直线，所有的子空间必须包含原点或者说零向量\n",
    "\n",
    "对$m \\times n$矩阵$A$，$n \\times 1$矩阵$x$，$m \\times 1$矩阵$b$，运算$Ax=b$：\n",
    "\n",
    "$$\n",
    "\\begin{bmatrix}\n",
    "a_{11} & a_{12} & \\cdots & a_{1(n-1)} & a_{1n} \\\\\n",
    "a_{21} & a_{22} & \\cdots & a_{2(n-1)} & a_{2n} \\\\\n",
    "\\vdots & \\vdots & \\ddots & \\vdots & \\vdots \\\\\n",
    "a_{m1} & a_{m2} & \\cdots & a_{m(n-1)} & a_{mn} \\\\\n",
    "\\end{bmatrix}\n",
    "\\cdot\n",
    "\\begin{bmatrix}\n",
    "x_{1} \\\\\n",
    "x_{2} \\\\\n",
    "\\vdots \\\\\n",
    "x_{n-1} \\\\\n",
    "x_{n} \\\\\n",
    "\\end{bmatrix}\n",
    "=\n",
    "\\begin{bmatrix}\n",
    "b_{1} \\\\\n",
    "b_{2} \\\\\n",
    "\\vdots \\\\\n",
    "b_{m} \\\\\n",
    "\\end{bmatrix}\n",
    "$$\n",
    "由$A$的列向量生成的子空间为$A$的列空间"
   ]
  },
  {
   "cell_type": "markdown",
   "metadata": {},
   "source": [
    "### 列空间"
   ]
  },
  {
   "cell_type": "markdown",
   "metadata": {},
   "source": [
    "$Ax = b$有非零解当且仅当$b$属于$A$的列空间，即只有b是$A$中各列的线形组合时，$Ax=b$才有解，看下面的例子："
   ]
  },
  {
   "cell_type": "markdown",
   "metadata": {},
   "source": [
    "假设有：\n",
    "$$\n",
    "\\begin{bmatrix}\n",
    "1 & 1 & 2\\\\\n",
    "2 & 1 & 3 \\\\\n",
    "3 & 1 & 4 \\\\\n",
    "4 & 1 & 5 \\\\\n",
    "\\end{bmatrix}\n",
    "\\cdot\n",
    "\\begin{bmatrix}\n",
    "? \\\\\n",
    "? \\\\\n",
    "? \\\\\n",
    "\\end{bmatrix}\n",
    "=\n",
    "\\begin{bmatrix}\n",
    "1 \\\\\n",
    "1 \\\\\n",
    "1 \\\\\n",
    "1 \\\\\n",
    "\\end{bmatrix}\n",
    "$$\n",
    "\n",
    "若$x = \n",
    "\\begin{bmatrix}\n",
    "x_{1} \\\\\n",
    "x_{2} \\\\\n",
    "x_{3} \\\\\n",
    "\\end{bmatrix}\n",
    "$\n",
    "则此时很容易看出$x_{1}=0,x_{2}=1,x_{3}=0$"
   ]
  },
  {
   "cell_type": "markdown",
   "metadata": {},
   "source": [
    "### 零空间"
   ]
  },
  {
   "cell_type": "markdown",
   "metadata": {},
   "source": [
    "A的零空间是$Ax=0$中$x$的解组成的集合"
   ]
  },
  {
   "cell_type": "markdown",
   "metadata": {},
   "source": [
    "假设有：\n",
    "$$\n",
    "\\begin{bmatrix}\n",
    "1 & 1 & 2\\\\\n",
    "2 & 1 & 3 \\\\\n",
    "3 & 1 & 4 \\\\\n",
    "\\end{bmatrix}\n",
    "\\cdot\n",
    "\\begin{bmatrix}\n",
    "x_{1} \\\\\n",
    "x_{2} \\\\\n",
    "x_{3} \\\\\n",
    "\\end{bmatrix}\n",
    "=\n",
    "\\begin{bmatrix}\n",
    "0 \\\\\n",
    "0 \\\\\n",
    "0 \\\\\n",
    "\\end{bmatrix}\n",
    "$$\n",
    "\n",
    "则此时很容易看出当\n",
    "\n",
    "- $x_{1}=0,x_{2}=0,x_{3}=0$ 即零向量是其中一个解\n",
    "- $x_{1}=1,x_{2}=1,x_{3}=-1$ 为另一个解\n",
    "- 整个解的集合为：\n",
    "$c\n",
    "\\begin{bmatrix}\n",
    "1 \\\\\n",
    "1 \\\\\n",
    "-1\\\\\n",
    "\\end{bmatrix}\n",
    "$\n",
    "此例中零空间是$R^{3}$中的直线"
   ]
  },
  {
   "cell_type": "markdown",
   "metadata": {},
   "source": [
    "为什么$Ax=0$的解构成一个子空间？"
   ]
  },
  {
   "cell_type": "markdown",
   "metadata": {},
   "source": [
    "首先空间必须是满足加法和乘法封闭的"
   ]
  },
  {
   "cell_type": "markdown",
   "metadata": {},
   "source": [
    "即要满足$Av=0$，且$Aw=0$,$A(v+w)=0$，而根据矩阵乘法运算规则，$A(v+w)=Av+Aw =0$,得证！另$A(cv) = cAv=0$，得证！"
   ]
  }
 ],
 "metadata": {
  "kernelspec": {
   "display_name": "Python 3",
   "language": "python",
   "name": "python3"
  },
  "language_info": {
   "codemirror_mode": {
    "name": "ipython",
    "version": 3
   },
   "file_extension": ".py",
   "mimetype": "text/x-python",
   "name": "python",
   "nbconvert_exporter": "python",
   "pygments_lexer": "ipython3",
   "version": "3.6.3"
  }
 },
 "nbformat": 4,
 "nbformat_minor": 2
}
