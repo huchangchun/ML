{
 "cells": [
  {
   "cell_type": "markdown",
   "metadata": {},
   "source": [
    "### 矩阵表示\n",
    "\"$\\begin{bmatrix}a&b&c\\\\d&e&f\\end{bmatrix}$\""
   ]
  },
  {
   "cell_type": "markdown",
   "metadata": {},
   "source": [
    "$\\begin{bmatrix}a&b&c\\\\d&e&f\\end{bmatrix}$"
   ]
  },
  {
   "cell_type": "code",
   "execution_count": 6,
   "metadata": {},
   "outputs": [
    {
     "data": {
      "text/plain": [
       "'$\\x08egin{bmatrix}x\\\\y\\\\z\\\\end{bmatrix}$'"
      ]
     },
     "execution_count": 6,
     "metadata": {},
     "output_type": "execute_result"
    }
   ],
   "source": [
    "\"$\\begin{bmatrix}x\\\\y\\\\z\\end{bmatrix}$\""
   ]
  },
  {
   "cell_type": "markdown",
   "metadata": {},
   "source": [
    "$\\begin{bmatrix}x\\\\y\\\\z\\end{bmatrix}$"
   ]
  },
  {
   "cell_type": "code",
   "execution_count": 5,
   "metadata": {},
   "outputs": [
    {
     "data": {
      "text/plain": [
       "'$\\x08egin{cases}x&+2y&+z&=2\\\\3x&+8y&+2z&=12\\\\end{cases}$'"
      ]
     },
     "execution_count": 5,
     "metadata": {},
     "output_type": "execute_result"
    }
   ],
   "source": [
    "#### 线形方程组的表示\n",
    "\"$\\begin{cases}x&+2y&+z&=2\\\\3x&+8y&+2z&=12\\end{cases}$\""
   ]
  },
  {
   "cell_type": "markdown",
   "metadata": {},
   "source": [
    "$\\begin{cases}x&+2y&+z&=2\\\\3x&+8y&+2z&=12\\end{cases}$"
   ]
  },
  {
   "cell_type": "markdown",
   "metadata": {},
   "source": [
    "###写增广矩阵\"\n",
    "\n",
    "$$\n",
    "\\left[\n",
    "\\begin{array}{c c c c|c}\n",
    "1 & 2 & 2 & 2 & b_1 \\\\\n",
    "2 & 4 & 6 & 8 & b_2 \\\\\n",
    "3 & 6 & 8 & 10 & b_3 \\\\\n",
    "\\end{array}\n",
    "\\right]\n",
    "\\underrightarrow{消元}\n",
    "\\left[\n",
    "\\begin{array}{c c c c|c}\n",
    "1 & 2 & 2 & 2 & b_1 \\\\\n",
    "2 & 4 & 6 & 8 & b_2 \\\\\n",
    "3 & 6 & 8 & 10 & b_3 \\\\\n",
    "\\end{array}\n",
    "\\right]\n",
    "$$"
   ]
  },
  {
   "cell_type": "markdown",
   "metadata": {
    "collapsed": true
   },
   "source": [
    "#大括号\n",
    "$\n",
    "\\Big\\lbrace\n",
    "\\begin{eqnarray*}\n",
    "x_1 & = -2\\\\\n",
    "x_3 & = \\frac{3}{2}\\\\\n",
    "\\end{eqnarray*}\n",
    "$\n",
    "#分号：\n",
    "\"\\frac{3}{2}\" = \n",
    "$\\frac{3}{2}$"
   ]
  },
  {
   "cell_type": "markdown",
   "metadata": {
    "collapsed": true
   },
   "source": [
    "\"$$\\lim_{n \\rightarrow + \\infty} h^{'}(x)=0$$\""
   ]
  },
  {
   "cell_type": "markdown",
   "metadata": {},
   "source": [
    "\"&\"可使等号对齐"
   ]
  },
  {
   "cell_type": "markdown",
   "metadata": {},
   "source": [
    "\\begin{aligned}\n",
    "(A \\cdot A^{-1})^{T} & = I^{T}\\\\\n",
    "(A^{-1})^{T} \\cdot A^{T} & = I\\\\\n",
    "\\textrm{则} A^{T} \\textrm{的逆矩阵为} & (A^{-1})^{T}\n",
    "\\end{aligned}"
   ]
  },
  {
   "cell_type": "markdown",
   "metadata": {
    "collapsed": true
   },
   "source": []
  }
 ],
 "metadata": {
  "kernelspec": {
   "display_name": "Python 3",
   "language": "python",
   "name": "python3"
  },
  "language_info": {
   "codemirror_mode": {
    "name": "ipython",
    "version": 3
   },
   "file_extension": ".py",
   "mimetype": "text/x-python",
   "name": "python",
   "nbconvert_exporter": "python",
   "pygments_lexer": "ipython3",
   "version": "3.6.2"
  }
 },
 "nbformat": 4,
 "nbformat_minor": 2
}
