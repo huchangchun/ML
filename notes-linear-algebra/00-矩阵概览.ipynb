{
 "cells": [
  {
   "cell_type": "markdown",
   "metadata": {},
   "source": [
    "1.矩阵是线性空间里的变换的描述，相似矩阵则是对同一个线性变换的不同描述，那何谓空间？本质而言，“空间是容纳运动的一个对象集合”\n",
    "而变换则规定了对应空间的运动”--孟岩。在线性空间选定基后，向量刻画对象的运动，运动则通过矩阵向向量施加，即矩阵与向量相乘（矩阵在左向量在右），如$A\\overrightarrow v$ 。然、到底什么是基？坐标系也。什么是向量？放在坐标系中度量，后把度量的结果（向量在各个坐标轴上投影值）按顺序排列在一起，即成向量。"
   ]
  },
  {
   "cell_type": "markdown",
   "metadata": {},
   "source": [
    "2.有了基，那么在$1$中所言的则应是：矩阵是线性空间里的变换的描述，相似矩阵则是对同一个线性变换在不同基（坐标系）下的不同描述。出来了两个问题，一者，何谓变换，二者不同基（坐标系）如何理解？事实上，所谓变换，即空间里从一个点（元素/对象）到另一个（元素/对象）的迁跃，矩阵用来描述线性变换，基呢？通过前面已知，矩阵无非不过就是用来描述线性空间中的线性变换的一个东西儿，线性变换为名词，矩阵为描述它的形容词，正如描述同一个人长的好看可以用多个不同形容词“帅”“靓”描述，同一个线性变换也可以由多个不同的矩阵来描述，而由哪一个矩阵描述它，则由基（坐标系）确定。"
   ]
  },
  {
   "cell_type": "markdown",
   "metadata": {},
   "source": [
    "3.基，坐标系也，形象表述则为角度，看一个问题的角度不同，描述问题得到的结论也不同，但结论也不同，同理，对于一个线性变换，可以选定一组基，\n",
    "得到一个矩阵描述它，换一组基，得到不同矩阵描述它，矩阵只是描述线性变换非线性变换本身，类比给一个人选取不同角度拍照\n",
    "不同的角度对应着不同的变换，也就是不同的基。举个例子：$A\\overrightarrow v = \\overrightarrow b$，即$A\\overrightarrow v = I \\overrightarrow b$ 假设：\n",
    "$$\n",
    "A=\\begin{bmatrix}2&0\\\\0&2\\end{bmatrix}\n",
    ",\n",
    "I=\\begin{bmatrix}0&1\\\\1&0\\end{bmatrix}\n",
    ",\n",
    "\\overrightarrow v =\\begin{bmatrix}1\\\\2\\end{bmatrix}\n",
    ",则\n",
    "\\overrightarrow b =\\begin{bmatrix}2\\\\4\\end{bmatrix}\n",
    "$$\n",
    "即\n",
    "$$\n",
    "\\begin{bmatrix}2&0\\\\0&2\\end{bmatrix}\\begin{bmatrix}1\\\\2\\end{bmatrix}=\\begin{bmatrix}0&1\\\\1&0\\end{bmatrix}\\begin{bmatrix}2\\\\4\\end{bmatrix}\n",
    "$$\n",
    "，\n",
    "\n",
    "$A$的基向量分别为\n",
    "$$\n",
    "\\overrightarrow {x}=\\begin{bmatrix}2\\\\0\\end{bmatrix},\\overrightarrow {y}=\\begin{bmatrix}0\\\\2\\end{bmatrix}\n",
    "$$\n",
    "$I$的基向量分别为\n",
    "$$\n",
    "\\overrightarrow i=\\begin{bmatrix}1\\\\0\\end{bmatrix},\\overrightarrow j=\\begin{bmatrix}0\\\\1\\end{bmatrix}\n",
    "$$\n",
    "直接看图"
   ]
  },
  {
   "cell_type": "code",
   "execution_count": 2,
   "metadata": {},
   "outputs": [
    {
     "data": {
      "image/png": "[encoded data removed]",
      "text/plain": [
       "<matplotlib.figure.Figure at 0x48d7d70>"
      ]
     },
     "metadata": {},
     "output_type": "display_data"
    }
   ],
   "source": [
    "%matplotlib inline\n",
    "import matplotlib.pyplot as plt\n",
    "from functools import partial\n",
    "fig = plt.figure()\n",
    "ax = plt.gca()\n",
    "ax.set_xlim(0,6)\n",
    "ax.set_ylim(0,6)\n",
    "ax.set_xticklabels(('0','2','4','6'))\n",
    "ax.set_yticklabels(('0','2','4','6'))\n",
    "arrow_vector = partial(plt.arrow, width=0.01, head_width=0.1, head_length=0.2, length_includes_head=True)\n",
    "arrow_vector(0, 0 ,1,0, color='b',width=0.05,label='v')\n",
    "arrow_vector(0, 0, 0, 1, color='b',width=0.05)\n",
    "arrow_vector(0, 0, 1, 2, color='b')\n",
    "plt.draw()"
   ]
  },
  {
   "cell_type": "code",
   "execution_count": 3,
   "metadata": {
    "collapsed": true
   },
   "outputs": [],
   "source": [
    "plt.close(fig)"
   ]
  },
  {
   "cell_type": "code",
   "execution_count": 4,
   "metadata": {},
   "outputs": [
    {
     "data": {
      "image/png": "[encoded data removed]",
      "text/plain": [
       "<matplotlib.figure.Figure at 0x48d7650>"
      ]
     },
     "metadata": {},
     "output_type": "display_data"
    }
   ],
   "source": [
    "%matplotlib inline\n",
    "import matplotlib.pyplot as plt\n",
    "from functools import partial\n",
    "fig = plt.figure()\n",
    "ax = plt.gca()\n",
    "ax.set_xlim(0,6)\n",
    "ax.set_ylim(0,6)\n",
    "arrow_vector = partial(plt.arrow, width=0.01, head_width=0.1, head_length=0.2, length_includes_head=True)\n",
    "arrow_vector(0, 0, 1, 0, color='r',width=0.05)\n",
    "arrow_vector(0, 0, 0, 1, color='r',width=0.05)\n",
    "arrow_vector(0, 0, 2, 4, color='r')\n",
    "plt.draw()"
   ]
  },
  {
   "cell_type": "markdown",
   "metadata": {},
   "source": [
    "这个简单的变换其实只是矩阵$A$将基向量（坐标系）拉伸了一倍，可以这样理解\n",
    "\n",
    "在我眼里（2,0）（0,2）就是我的基向量，向量$v$在我坐标系的位置是（1,2）\n",
    "\n",
    "在你眼里（1,0）（0,1）就是你的基向量，$v$变换到你的坐标系$b$就是（2,4）"
   ]
  },
  {
   "cell_type": "markdown",
   "metadata": {},
   "source": [
    "4.从上图可以看出，矩阵不仅可以描述线性变换，还可以用来描述基（坐标系/角度），线性变换无非是通过变换的矩阵把线性空间中的\n",
    "一点变换到另一个点上去，如上面上面的（1,2），通过变换变为（2,4），变换点和变换坐标系，异曲同工。\n",
    "（矩阵还可以用来描述微分和积分变换，关键看基向量）"
   ]
  },
  {
   "cell_type": "markdown",
   "metadata": {},
   "source": [
    "5.矩阵是线性运动（变换）的描述，矩阵与向量相乘则是实施运动（变换的）过程，同一个变换在不同的坐标系下表现为不同的矩阵，\n",
    "但是本质相同，运动是相对的，对象的变换等价于坐标系的变换，如点（1,2）变到点（2,4），一者可以让坐标点移动，二者可以让X轴单位度量\n",
    "变成原来的2倍，让Y轴度量长度变为原来的2倍，前后都可以达到目的；"
   ]
  },
  {
   "cell_type": "markdown",
   "metadata": {},
   "source": [
    "6.$A\\overrightarrow v=\\overrightarrow b$，坐标点移动则是向量a经过矩阵A所描述的变换，变成了向量$\\overrightarrow b$；变坐标系则是有一个向量，它在坐标系$A$的度量下结果为$\\overrightarrow b$，在坐标系$I$（I为单位矩阵，主对角为1，其它为0）的度量下结果为$\\overrightarrow b$，\n",
    "本质上点运动与变换坐标系两者等价。为何？如(5)所述，同一个变换，不同坐标系下表现不同矩阵，但本质相同"
   ]
  },
  {
   "cell_type": "markdown",
   "metadata": {},
   "source": [
    "7.$I\\overrightarrow b$，I在(6)中说为单位坐标系，其实就是我们常说的直角坐标系，如$A\\overrightarrow v = \\overrightarrow b$，在$A$坐标系里是向量$\\overrightarrow v$，在$I$坐标系里是向量$\\overrightarrow b$，本质上就是同一个向量，故此谓矩阵乘法计算无异于身份识别"
   ]
  },
  {
   "cell_type": "markdown",
   "metadata": {},
   "source": [
    "8.b在I坐标系中则是$I\\overrightarrow b，\\overrightarrow v$在M坐标系中则是$A\\overrightarrow a$，故而矩阵乘法$AxN$，不过是$N$在$A$坐标系中度量得到$AN$，而$A$本身在$I$坐标系中度量出。故$A\\overrightarrow v=I\\overrightarrow b$，$A$坐标系中的$v$转过来在$I$坐标系中一量，却成了$\\overrightarrow b$。如向量($x,y$)在单位长度均为1的直角坐标系中一量，是(1,1)，而在$X$轴单位长度为2.$Y$轴单位长度为2则是(2,2)"
   ]
  },
  {
   "cell_type": "markdown",
   "metadata": {},
   "source": [
    " 9.何谓逆矩阵? $A\\overrightarrow v=I\\overrightarrow b$，之前已明了坐标点变换$\\overrightarrow v$->$\\overrightarrow b$等价于坐标系变换$A$->$I$，但具体$A$如何变为$I$呢，--让$A$乘以$A$的逆矩阵。以坐标系\n",
    "$$\n",
    "\\begin{bmatrix}2&0\\\\0&2\\end{bmatrix}\n",
    "$$ 为例，$X$轴单位长度变为原来1/2.$Y$轴单位长度变为原来的1/2,即与$A$的逆矩阵 $A^{-1}$\n",
    "$$\n",
    "\\begin{bmatrix}1/2&0\\\\0&1/2\\end{bmatrix}\n",
    "$$,\n",
    "相乘便成直角坐标系$I$，即对坐标系施加变换，即让其与其变换矩阵相乘。\n"
   ]
  },
  {
   "cell_type": "markdown",
   "metadata": {
    "collapsed": true
   },
   "source": [
    "10.在矩阵中$n$阶单位矩阵是一个$nxn$的方阵，其主对角线元素是1其余元素为0简称$I$或者$E$\n",
    "$$\n",
    "I_{1}=\\begin{bmatrix}1\\end{bmatrix},I_{2}=\\begin{bmatrix}1&0\\\\0&1\\end{bmatrix},I_{3}=\\begin{bmatrix}1&0&0\\\\0&1&0\\\\0&0&1\\end{bmatrix}\\cdots\n",
    "$$,\n",
    "单位矩阵中的第$i$列为单位向量$e_{i}$,单位向量同时也是单位矩阵的特征向量，特征值皆为1，因此这是为一个的特征值，且具有重数$n$，由此可见单位矩阵的行列式为1，且迹数为$n$."
   ]
  },
  {
   "cell_type": "markdown",
   "metadata": {},
   "source": [
    "### 11.单位向量\n",
    "单位向量又是什么呢？数学上，赋范向量空间中的单位向量就是长度为$1$的向量。欧几里得空间中，两个向量的点积就是他们之间夹角的余弦（因为他们的长度都为1）\n",
    "一个非零向量$\\overrightarrow u$ 的正规化向量（即单位向量）$\\hat u$,就是平行于$\\overrightarrow u$的单位向量记作：\n",
    "$$\n",
    "\\hat u = \\frac{\\overrightarrow u}{{||\\overrightarrow{u}||}},其中{||\\overrightarrow{u}||}是\\overrightarrow{u}的范数（长度）\n",
    "$$\n",
    "\n",
    "何谓点积？点积又称内积，两个向量内积$\\overrightarrow a=[a1,a2,\\cdots,an]$和$\\overrightarrow b=[b1,b2,\\cdots,bn]$的点积为：\n",
    "\n",
    "$$\n",
    "\\overrightarrow a .\\overrightarrow b =\\sum_{i=1}^n a_{i}b_{i}=a_{1}b_{1}+a_{2}b_{2}+\\cdots+a_{n}b_{n}\n",
    "$$\n",
    "\n",
    "例如，两个三维向量$\\begin{bmatrix}1\\\\3\\\\-5\\end{bmatrix}.\\begin{bmatrix}4\\\\-2\\\\-1\\end{bmatrix} = 1\\times4+3\\times2+(-5)\\times(-1) = 3$\n",
    "\n",
    "使用矩阵乘法，并把（纵列）转置为$n\\times1$矩阵，点积还可写为：\n",
    "$\\overrightarrow a.\\overrightarrow b= \\overrightarrow a^T\\times\\overrightarrow b$\n",
    "\n",
    "$\n",
    "\\begin{bmatrix}1&3&-5\\end{bmatrix}\\begin{bmatrix}4\\\\-2\\\\-1\\end{bmatrix} = 1\\times4+3\\times2+(-5)\\times(-1) = \\begin{bmatrix}3\\end{bmatrix} ,1 \\times 1矩阵也就是标量\n",
    "$\n",
    "\n",
    "除上，点积还有另一种定义：几何定义。在欧几里得空间中，点积可以直观定义为：\n",
    "$\\overrightarrow a.\\overrightarrow b= |\\overrightarrow a| |\\overrightarrow b| cos\\theta$\n",
    "$|\\overrightarrow x|$表示向量的模（长度），$\\theta$为向量之间的夹角。当向量垂直时，点积为0。\n",
    "\n",
    "正交是垂直这一直观概念的推广，若内积为0，则称他们是正交的。正交矩阵是（orthogonal matrix)是一个元素为实数，而且行列皆为正交的单位向量的方块矩阵（方块矩阵，简称方阵，是行数与列数皆相同的矩阵）。\n"
   ]
  },
  {
   "cell_type": "markdown",
   "metadata": {},
   "source": [
    "### 12.特征向量\n",
    "\n",
    "若数字$\\lambda$ 和非零向量$\\overrightarrow v $满足 $\\lambda\\overrightarrow v = A\\overrightarrow v$,则$\\overrightarrow v$为$A$的一个特征向量，$\\lambda$是其对应的特征值，意思是，在$\\overrightarrow v$这个方向上通过线性变换$A$只是把$\\overrightarrow v$沿 $\\overrightarrow v$方向上拉伸/缩短一点，$\\lambda$则是表示沿着这个方向上拉伸了多少的比例，\n",
    "\n",
    "矩阵的迹是矩阵$n\\times n$的对角线元素之和，也是其$n$个特征值之和。"
   ]
  },
  {
   "cell_type": "markdown",
   "metadata": {},
   "source": [
    "### 13.拉普拉斯矩阵Laplacian matrix（在聚类中用到）\n",
    "也称 基尔霍夫矩阵，是表示图的一种矩阵，给定一个$n$个顶点的图$G=(V,E)$,其拉普拉斯矩阵被定义为：\n",
    "$L = D-W$\n",
    "\n",
    "其中$D$为图的度矩阵，$W$为图的邻接矩阵。\n",
    "举个例子，下图："
   ]
  },
  {
   "cell_type": "code",
   "execution_count": 11,
   "metadata": {},
   "outputs": [
    {
     "data": {
      "image/png": "[encoded data removed]",
      "text/plain": [
       "<matplotlib.figure.Figure at 0x7e21630>"
      ]
     },
     "metadata": {},
     "output_type": "display_data"
    }
   ],
   "source": [
    "import networkx as nx\n",
    "import matplotlib.pyplot as plt\n",
    "%matplotlib inline\n",
    "dg = nx.DiGraph()\n",
    "dg.add_edges_from([(1,2),(1,5),(2,3),(2,5),(5,4),(3,4),(4,6)])\n",
    "pos = nx.spring_layout(dg)\n",
    "nx.draw_networkx_labels(dg,pos,font_size=20,font_color='b')\n",
    "nx.draw(dg,pos,node_size=1500,node_color=\"gray\")"
   ]
  },
  {
   "cell_type": "markdown",
   "metadata": {},
   "source": [
    "此图转换为邻接矩阵的形式为：\n",
    "\n",
    "$\n",
    "W=\n",
    "\\begin{bmatrix}\n",
    "0 & 1 & 0 & 0 & 1& 0\\\\\n",
    "1 & 0 & 1 & 0 & 1& 0\\\\\n",
    "0 & 1 & 0 & 1 & 0& 0\\\\\n",
    "0 & 0 & 1& 0 & 1& 1\\\\\n",
    "1 & 1 & 0 & 1 & 0& 0\\\\\n",
    "0 & 0 & 0 & 1 & 0& 0\\\\\n",
    "\\end{bmatrix}\n",
    "$\n",
    "\n",
    "把$W$的每一列元素加起来得到$N$个数，然后把他们放在对角线上然后其它都是零，组成一个$N\\times N$的对角矩阵，记为度矩阵 $D$，如下：\n",
    "\n",
    "$\n",
    "D=\n",
    "\\begin{bmatrix}\n",
    "2 & 0 & 0 & 0 & 0& 0\\\\\n",
    "0 & 3 & 0 & 0 & 0& 0\\\\\n",
    "0 & 0 & 2 & 0 & 0& 0\\\\\n",
    "0 & 0 & 0 & 2 & 0& 0\\\\\n",
    "0 & 0 & 0 & 0 & 3& 0\\\\\n",
    "0 & 0 & 0 & 0 & 0& 1\\\\\n",
    "\\end{bmatrix}\n",
    "$\n",
    "\n",
    "根据拉普拉斯矩阵的定义$L=D-W$\n",
    "\n",
    "$\n",
    "L=\n",
    "\\begin{bmatrix}\n",
    "2 &-1 & 0 & 0 & -1 & 0\\\\\n",
    "-1& 3 & -1 & 0 & -1 & 0\\\\\n",
    " 0 & -1 & 2 & -1 & 0 & 0\\\\\n",
    " 0 & 0 & -1 & 3 & -1 & -1\\\\\n",
    "-1 & -1 & 0 & -1 & 3 & 0\\\\\n",
    " 0 & 0 & 0 & -1 & 0 & 1\\\\\n",
    "\\end{bmatrix}\n",
    "$"
   ]
  },
  {
   "cell_type": "code",
   "execution_count": null,
   "metadata": {
    "collapsed": true
   },
   "outputs": [],
   "source": []
  }
 ],
 "metadata": {
  "kernelspec": {
   "display_name": "Python 3",
   "language": "python",
   "name": "python3"
  },
  "language_info": {
   "codemirror_mode": {
    "name": "ipython",
    "version": 3
   },
   "file_extension": ".py",
   "mimetype": "text/x-python",
   "name": "python",
   "nbconvert_exporter": "python",
   "pygments_lexer": "ipython3",
   "version": "3.6.2"
  }
 },
 "nbformat": 4,
 "nbformat_minor": 2
}
