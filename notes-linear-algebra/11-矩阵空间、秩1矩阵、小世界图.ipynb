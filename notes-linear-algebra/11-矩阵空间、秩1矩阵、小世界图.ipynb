{
 "cells": [
  {
   "cell_type": "markdown",
   "metadata": {},
   "source": [
    "## 第十一讲：矩阵空间、秩1矩阵、小世界图"
   ]
  },
  {
   "cell_type": "markdown",
   "metadata": {},
   "source": [
    "回顾：一组基意味着空间里的所有元素都是基向量的组合，向量基满足线性无关性，求解$Ax=0$的特殊解（零空间）即可以找到一组基"
   ]
  },
  {
   "cell_type": "markdown",
   "metadata": {
    "collapsed": true
   },
   "source": [
    "## 矩阵空间\n",
    "\n",
    "接上一讲，使用$3 \\times 3$矩阵举例，其矩阵空间记为$M$。\n",
    "\n",
    "则$M$的一组基为：\n",
    "$\n",
    "\\begin{bmatrix}\n",
    "1 & 0 & 0 \\\\\n",
    "0 & 0 & 0 \\\\\n",
    "0 & 0 & 0 \\\\\n",
    "\\end{bmatrix}\n",
    "\\begin{bmatrix}\n",
    "0 & 1 & 0 \\\\\n",
    "0 & 0 & 0 \\\\\n",
    "0 & 0 & 0 \\\\\n",
    "\\end{bmatrix}\n",
    "\\begin{bmatrix}\n",
    "0 & 0 & 1 \\\\\n",
    "0 & 0 & 0 \\\\\n",
    "0 & 0 & 0 \\\\\n",
    "\\end{bmatrix} \\\\\n",
    "\\begin{bmatrix}\n",
    "0 & 0 & 0 \\\\\n",
    "1 & 0 & 0 \\\\\n",
    "0 & 0 & 0 \\\\\n",
    "\\end{bmatrix}\n",
    "\\begin{bmatrix}\n",
    "0 & 0 & 0 \\\\\n",
    "0 & 1 & 0 \\\\\n",
    "0 & 0 & 0 \\\\\n",
    "\\end{bmatrix}\n",
    "\\begin{bmatrix}\n",
    "0 & 0 & 0 \\\\\n",
    "0 & 0 & 1 \\\\\n",
    "0 & 0 & 0 \\\\\n",
    "\\end{bmatrix} \\\\\n",
    "\\begin{bmatrix}\n",
    "0 & 0 & 0 \\\\\n",
    "0 & 0 & 0 \\\\\n",
    "1 & 0 & 0 \\\\\n",
    "\\end{bmatrix}\n",
    "\\begin{bmatrix}\n",
    "0 & 0 & 0 \\\\\n",
    "0 & 0 & 0 \\\\\n",
    "0 & 1 & 0 \\\\\n",
    "\\end{bmatrix}\n",
    "\\begin{bmatrix}\n",
    "0 & 0 & 0 \\\\\n",
    "0 & 0 & 0 \\\\\n",
    "0 & 0 & 1 \\\\\n",
    "\\end{bmatrix} \\\\\n",
    "$"
   ]
  },
  {
   "cell_type": "markdown",
   "metadata": {},
   "source": [
    "\n",
    "易得，$dim M=9$。\n",
    "\n",
    "所以可以得出，对上讲中的三阶对称矩阵空间有$dim S=6$、上三角矩阵空间有$dim U=6$、对角矩阵空间有$dim D=3$\n",
    "\n",
    "求并（intersect）：$S \\cup U=D, dim(S \\cup U)=9$；\n",
    "\n",
    "求交（sum）：$S \\cap U=M, dim(S \\cap U)=3$；\n",
    "\n",
    "可以看出：$dim S + dim U=12=dim(S \\cup U) + dim(S \\cap U)$。\n",
    "\n",
    "另一个例子来自微分方程：\n",
    "\n",
    "$\\frac{d^2y}{dx^2}+y=0$，即$y''+y=0$\n",
    "\n",
    "方程的解有：$y=\\cos{x}, \\quad y=\\sin{x}, \\quad y=e^{ix}, \\quad y=e^{-ix}$等等（$e^{ix}=\\cos{x}+i\\sin{x}, \\quad e^{-ix}=\\cos{x}-i\\sin{x}$）\n",
    "\n",
    "而该方程的所有解：$y=c_1 \\cos{x} + c_2 \\sin{x}$。\n",
    "\n",
    "所以，该方程的零空间的一组基为$\\cos{x}, \\sin{x}$，零空间的维数为$2$。同理$e^{ix}, e^{-ix}$可以作为另一组基。"
   ]
  },
  {
   "cell_type": "markdown",
   "metadata": {},
   "source": [
    "## 秩一矩阵\n",
    "\n",
    "$2 \\times 3$矩阵$A=\\begin{bmatrix}1&4&5\\\\2&8&10\\end{bmatrix}=\\begin{bmatrix}1\\\\2\\end{bmatrix}\\begin{bmatrix}1&4&5\\end{bmatrix}$。\n",
    "\n",
    "且$dimC(A)=1=dimC(A^T)$，所有的秩一矩阵都可以划为$A=UV^T$的形式，这里的$U, V$均为列向量。\n",
    "\n",
    "秩一矩阵类似“积木”，可以搭建任何矩阵，如对于一个$5 \\times 17$秩为$4$的矩阵，只需要$4$个秩一矩阵就可以组合出来。\n",
    "\n",
    "令$M$代表所有$5 \\times 17$，$M$中所有秩$4$矩阵组成的集合并不是一个子空间，通常两个秩四矩阵相加，其结果并不是秩四矩阵。\n",
    "\n",
    "现在，在$\\mathbb{R}^4$空间中有向量$v=\\begin{bmatrix}v_1\\\\v_2\\\\v_3\\\\v_4\\end{bmatrix}$，取$\\mathbb{R}^4$中满足$v_1+v_2+v_3+v_4=0$的所有向量组成一个向量空间$S$，则$S$是一个向量子空间。\n",
    "\n",
    "易看出，不论是使用系数乘以该向量，或是用两个满足条件的向量相加，其结果仍然落在分量和为零的向量空间中。"
   ]
  },
  {
   "cell_type": "markdown",
   "metadata": {},
   "source": [
    "我们知道该如何描述一个空间，首先找到空间的一组基，然后确定它的维数，子空间$S$的基和维数是多少呢？基需要一些向量来确定。\n",
    "求$S$的维数：\n",
    "假设$Av=0$\n",
    "从另一个角度看，$v_1+v_2+v_3+v_4=0$等价于\n",
    "\n",
    "$\\begin{bmatrix}1&1&1&1\\end{bmatrix}\\begin{bmatrix}v_1\\\\v_2\\\\v_3\\\\v_4\\end{bmatrix}=0$，则$S$等价于$A=\\begin{bmatrix}1&1&1&1\\end{bmatrix}$的零空间。\n",
    "\n",
    "问题转化为求矩阵$A$的零空间了。\n",
    "\n",
    "矩阵$A$的秩：$rank(A)=1$\n",
    "\n",
    "矩阵零空间的维数dim N(A)=$n-r=4-1=3$,(零空间包含3个自由变量)"
   ]
  },
  {
   "cell_type": "markdown",
   "metadata": {},
   "source": [
    "### 矩阵$A$的四个基本子空间：\n",
    "\n",
    "\n",
    "- 行空间：$dim C(A^T)=1$\n",
    "\n",
    "行空间是一维的，也就是行向量任意倍数组成的空间，其中的一组基是$\\begin{bmatrix}1\\\\1\\\\1\\\\1\\end{bmatrix}$；\n",
    "\n",
    "- 零空间：$dim N(A)=3$\n",
    "\n",
    "零空间是3维的，其中的一组基是什么？零空间的基就是特殊解，要求出特殊解，首先要找到自由变量，$A=\\begin{bmatrix}1&1&1&1\\end{bmatrix}$第一个是主元，自由变量就是第二、三、四个，因此子空间S的一组基是由三个向量(三个特殊解构成）\n",
    "\n",
    "假设第一个自由变量为1，再求出主变量的值，就得到S的一个向量，按此方法得到三个解：\n",
    "\n",
    "$\\begin{bmatrix}-1\\\\1\\\\0\\\\0\\end{bmatrix}$,\n",
    "$\\begin{bmatrix}-1\\\\0\\\\1\\\\0\\end{bmatrix}$,\n",
    "$\\begin{bmatrix}-1\\\\0\\\\0\\\\1\\end{bmatrix}$\n",
    "\n",
    "- 列空间：$dim C(A)=1$\n",
    "\n",
    "列空间是一维空间的子空间，因为$m=1$,列空间的实质是什么？在这个例子中，矩阵列空间由第一列的任意倍数组成，任意倍数构成$R^{1}$,\n",
    "其中一组基是$\\begin{bmatrix}1\\end{bmatrix}$，列空间就是整个$\\mathbb{R}^1$空间。\n",
    "\n",
    "- 左零空间：(A的转置的零空间) $dim N(A^T)=0$\n",
    "\n",
    "如果转置$A$，怎样才能使转置后的列的组合为零？，显然是不存在这样的组合，所以\n",
    "$A$转置后没有非零的$v$可以使$Av=0$成立，唯一能够使这些行产生零行的组合就是零组合$\\begin{bmatrix}0\\end{bmatrix}$。"
   ]
  },
  {
   "cell_type": "markdown",
   "metadata": {},
   "source": [
    "让我们来检查一下这些维数：\n",
    "\n",
    "零空间是三维的，行空间是一维的  ：$3+1=4$\n",
    "- $dim C(A^T)+dim N(A)=4=n$\n",
    "\n",
    "列空间是一维的，左零空间是0维的：$1 +0=1$\n",
    "- $dim C(A)+dim N(A^T)=1=m$"
   ]
  },
  {
   "cell_type": "markdown",
   "metadata": {},
   "source": [
    "## 小世界图\n",
    "\n",
    "图（graph）由节点（node）与边（edge）组成。\n",
    "\n",
    "假设，每个人是图中的一个节点，如果两个人为朋友关系，则在这两个人的节点间添加一条边，通常来说，从一个节点到另一个节点只需要不超过$6$步（即六条边）即可到达。"
   ]
  }
 ],
 "metadata": {
  "kernelspec": {
   "display_name": "Python 3",
   "language": "python",
   "name": "python3"
  },
  "language_info": {
   "codemirror_mode": {
    "name": "ipython",
    "version": 3
   },
   "file_extension": ".py",
   "mimetype": "text/x-python",
   "name": "python",
   "nbconvert_exporter": "python",
   "pygments_lexer": "ipython3",
   "version": "3.6.2"
  }
 },
 "nbformat": 4,
 "nbformat_minor": 2
}
