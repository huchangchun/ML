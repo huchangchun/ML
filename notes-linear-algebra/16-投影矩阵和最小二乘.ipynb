{
 "cells": [
  {
   "cell_type": "markdown",
   "metadata": {
    "collapsed": true
   },
   "source": [
    "## 投影矩阵和最小二乘法"
   ]
  },
  {
   "cell_type": "markdown",
   "metadata": {},
   "source": [
    "### 投影"
   ]
  },
  {
   "cell_type": "markdown",
   "metadata": {},
   "source": [
    "上一讲我们知道：\n",
    "矩阵$P = A(A^TA)^{-1}A^T$ 是将向量$\\overrightarrow b$投影到$A$张成的列空间的投影矩阵\n",
    "* 如果$b \\in C(A)$,则$Pb = b$;\n",
    "* 如果$b \\bot C(A)$,则$Pb = 0$;\n",
    "一般情况下$b$将会有一个垂直于$A$的分量，有一个在$A$列空间中的分量，投影得作用就是去掉垂直的分量\n",
    "保留列空间中的分量。\n",
    "\n",
    "在第一种情况中，如果$b \\in C(A)$则有$b = Ax$,带入投影矩阵$p = Pb = A(A^TA)^{-1}A^TAx=Ax$\n",
    "\n",
    "在第二种情况中，如果$b \\bot C(A)$则有$b \\in N(A^T)$,即$A^Tb=0$,则$p=Pb=A(A^TA)^{-1}A^Tb=0$\n",
    "\n",
    "向量$b$投影后，有$b = e+p,p=Pb, e=(I-p)b$,这里的$p$是$b$在$C(A)$中的分量，而$e$是$b$在$N(A^T)$中的分量\n",
    "\n",
    "接上一讲的例题：\n",
    "\n",
    "我们需要找到举例图中三个点$(1,1),(2,2),3,2)$偏差最小的直线，$y = C+Dt$."
   ]
  },
  {
   "cell_type": "code",
   "execution_count": 21,
   "metadata": {},
   "outputs": [
    {
     "data": {
      "image/png": "[encoded data removed]",
      "text/plain": [
       "<matplotlib.figure.Figure at 0x15c7a7f0>"
      ]
     },
     "metadata": {},
     "output_type": "display_data"
    }
   ],
   "source": [
    "%matplotlib inline\n",
    "import matplotlib.pyplot as plt\n",
    "from sklearn import linear_model\n",
    "import numpy as np\n",
    "import pandas as pd\n",
    "import seaborn as sns\n",
    "\n",
    "x = np.array([1, 2, 3]).reshape((-1,1))\n",
    "y = np.array([1, 2, 2]).reshape((-1,1))\n",
    "predict_line = np.array([-1, 4]).reshape((-1,1))\n",
    "\n",
    "regr = linear_model.LinearRegression()\n",
    "regr.fit(x, y)\n",
    "ey = regr.predict(x)\n",
    "\n",
    "fig = plt.figure()\n",
    "plt.axis('equal')\n",
    "plt.axhline(y=0, c='black')\n",
    "plt.axvline(x=0, c='black')\n",
    "\n",
    "plt.scatter(x, y, c='r')\n",
    "plt.scatter(x, regr.predict(x), s=20, c='b')\n",
    "plt.plot(predict_line, regr.predict(predict_line), c='g', lw='1')\n",
    "[ plt.plot([x[i], x[i]], [y[i], ey[i]], 'r', lw='1') for i in range(len(x))]\n",
    "\n",
    "plt.annotate('(1, 1)', xy=(1, 1), xytext=(-15, -30), textcoords='offset points', size=14, arrowprops=dict(arrowstyle=\"->\"))\n",
    "plt.annotate('(2, 2)', xy=(2, 2), xytext=(-60, -5), textcoords='offset points', size=14, arrowprops=dict(arrowstyle=\"->\"))\n",
    "plt.annotate('(3, 2)', xy=(3, 2), xytext=(-15, -30), textcoords='offset points', size=14, arrowprops=dict(arrowstyle=\"->\"))\n",
    "\n",
    "plt.annotate('$e_1$', color='r', xy=(1, 1), xytext=(0, 2), textcoords='offset points', size=20)\n",
    "plt.annotate('$e_2$', color='r', xy=(2, 2), xytext=(0, -15), textcoords='offset points', size=20)\n",
    "plt.annotate('$e_3$', color='r', xy=(3, 2), xytext=(0, 1), textcoords='offset points', size=20)\n",
    "\n",
    "plt.annotate('$p_1$', xy=(1, 7/6), color='b', xytext=(-7, 30), textcoords='offset points', size=14, arrowprops=dict(arrowstyle=\"->\"))\n",
    "plt.annotate('$p_2$', xy=(2, 5/3), color='b', xytext=(-7, -30), textcoords='offset points', size=14, arrowprops=dict(arrowstyle=\"->\"))\n",
    "plt.annotate('$p_3$', xy=(3, 13/6), color='b', xytext=(-7, 30), textcoords='offset points', size=14, arrowprops=dict(arrowstyle=\"->\"))\n",
    "plt.draw()"
   ]
  },
  {
   "cell_type": "code",
   "execution_count": 22,
   "metadata": {
    "collapsed": true
   },
   "outputs": [],
   "source": [
    "plt.close(fig)"
   ]
  },
  {
   "cell_type": "markdown",
   "metadata": {},
   "source": [
    "根据条件可以得到方程组 \n",
    "$\n",
    "\\begin{cases}\n",
    "C+D&=1 \\\\\n",
    "C+2D&=2 \\\\\n",
    "C+3D&=2 \\\\\n",
    "\\end{cases}\n",
    "$，写作矩阵形式\n",
    "$\\begin{bmatrix}1&1 \\\\1&2 \\\\1&3\\\\\\end{bmatrix}\\begin{bmatrix}C\\\\D\\\\\\end{bmatrix}=\\begin{bmatrix}1\\\\2\\\\2\\\\\\end{bmatrix}$，也就是我们的$Ax=b$，很明显方程组无解。\n",
    "\n",
    "我们需要在$b$的三个分量上都增加某个误差e使得三点能共线，同时使得$e_{1}^{2}+e_{2}^{2}+e_{3}^{2}$最小，找到\n",
    "拥有最小平方和的解（即最小二乘），即$\\left\\|Ax-b\\right\\|^2=\\left\\|e\\right\\|^2$最小。此时向量$b$变为向量\n",
    "$$\n",
    "p = \\begin{bmatrix}p_{1}\\\\p_{2}\\\\p_{3}\\end{bmatrix}\n",
    "$$,(在方程组有解的情况下，$Ax -b=0$,即$b$在$A$的列空间中，误差$e$为零），我们现在做的运算也称线性回归（linear regression）,使用误差的平方和作为测试总误差的标准。\n",
    "\n",
    "\n",
    "\n"
   ]
  },
  {
   "cell_type": "markdown",
   "metadata": {},
   "source": [
    "如果有另一点如$(0,100)$，在本例中该点明显距离别的点很远，最小二乘很容易被利群的点影响，通常使用最小二乘法时会去掉明显离群的点。\n",
    "现在我们尝试解出$\\hat x = \\begin{bmatrix}\\hat C \\\\ \\hat D\\end{bmatrix}$与$p=\\begin{bmatrix}p_{1}\\\\p_{2}\\\\p_{3}\\end{bmatrix}$。\n",
    "\n",
    "$$\n",
    "A^TA \\hat x = A^Tb\\\\\n",
    "A^TA = \n",
    "\\begin{bmatrix} 3&6 \\\\6&14\\end{bmatrix}\\qquad\n",
    "A^Tb = \n",
    "\\begin{bmatrix}5\\\\11\\end{bmatrix}\\\\\n",
    "\\begin{bmatrix}3&6\\\\6&14\\end{bmatrix}\n",
    "\\begin{bmatrix}\\hat C\\\\\\hat D\\end{bmatrix}=\n",
    "\\begin{bmatrix}5\\\\11\\end{bmatrix}\\\\\n",
    "$$"
   ]
  },
  {
   "cell_type": "markdown",
   "metadata": {},
   "source": [
    "写作方程形式为$\\begin{cases}3\\hat C+16\\hat D&=5\\\\6\\hat C +14\\hat D&=11\\\\\\end{cases}$,\n",
    "也称做正规方程组（normal equation）."
   ]
  },
  {
   "cell_type": "markdown",
   "metadata": {},
   "source": [
    "回顾前面提到的“使得误差最小”的条件，$e_{1}^{2}+e_{2}^{2}+e_{3}^{2} = (C+D-1)^2 + (C+2D-2)^2 + (C+3D-2)^2$,使该式取最小值，如果使用微积分方法，则需要对该式的两个变量\n",
    "                                                     $C,D$分别求偏导数，偏导为零求得方程组的解。"
   ]
  },
  {
   "cell_type": "markdown",
   "metadata": {},
   "source": [
    "解方程得$\\hat C =\\frac{2}{3},\\hat D=\\frac{1}{2}$,则‘最佳直线’为$y = \\frac{2}{3}+\\frac{1}{2}t$,带回原方程组解得\n",
    "$p_{1} = \\frac{7}{6},p_{2} = \\frac{5}{3}, p_{3}=\\frac{13}{6}$,\n",
    "\n",
    "即$e_{1}=-\\frac{1}{6},\n",
    "e_{2}=\\frac{1}{3},e_{3}=-\\frac{1}{6}$,\n",
    "\n",
    "易看出$b = p+e$,同时我们发现$p\\cdot e= 0$即$p\\bot e$."
   ]
  },
  {
   "cell_type": "markdown",
   "metadata": {},
   "source": [
    "误差向量$e$不仅垂直于投影向量$p$，它同时垂直于列空间，如$\\begin{bmatrix}1\\\\1\\\\1\\end{bmatrix},\n",
    "\\begin{bmatrix}1\\\\2\\\\3\\end{bmatrix}$."
   ]
  },
  {
   "cell_type": "markdown",
   "metadata": {},
   "source": [
    "接下来我们观察$A^TA$，如果$A$的各列线性无关，求证$A^TA$是可逆矩阵。\n",
    "\n",
    "如果矩阵可逆，那么它的零空间仅为零向量，先假设$A^TAx = 0$,两边同时乘以$x^T$有$x^TA^TAx=0$，则这个矩阵也必须为0($(Ax)^T(Ax)$相当于$Ax$长度的平方)，则$Ax=0$，结合题设中的\"$A$的各列线性无关\"，可知$x=0$，也就是$A^TA$的零空间中有且只有零向量，得证。\n"
   ]
  },
  {
   "cell_type": "markdown",
   "metadata": {},
   "source": [
    "\n",
    "我们再来看一种线性无关的特殊情况：互相垂直的单位向量一定是线性无关的。\n",
    "\n",
    "* 比如$\\begin{bmatrix}1\\\\0\\\\0\\end{bmatrix}\\begin{bmatrix}0\\\\1\\\\0\\end{bmatrix}\\begin{bmatrix}0\\\\0\\\\1\\end{bmatrix}$，这三个正交单位向量也称作标准正交向量组（orthonormal vectors）。\n",
    "* 另一个例子$\\begin{bmatrix}\\cos\\theta\\\\\\sin\\theta\\end{bmatrix}\\begin{bmatrix}-\\sin\\theta\\\\\\cos\\theta\\end{bmatrix}$\n",
    "\n",
    "下一讲研究标准正交向量组。"
   ]
  },
  {
   "cell_type": "code",
   "execution_count": null,
   "metadata": {
    "collapsed": true
   },
   "outputs": [],
   "source": []
  }
 ],
 "metadata": {
  "kernelspec": {
   "display_name": "Python 3",
   "language": "python",
   "name": "python3"
  },
  "language_info": {
   "codemirror_mode": {
    "name": "ipython",
    "version": 3
   },
   "file_extension": ".py",
   "mimetype": "text/x-python",
   "name": "python",
   "nbconvert_exporter": "python",
   "pygments_lexer": "ipython3",
   "version": "3.6.2"
  }
 },
 "nbformat": 4,
 "nbformat_minor": 2
}
