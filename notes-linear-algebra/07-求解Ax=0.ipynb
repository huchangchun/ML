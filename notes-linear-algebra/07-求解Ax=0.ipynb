{
 "cells": [
  {
   "cell_type": "markdown",
   "metadata": {},
   "source": [
    "# 第七讲：求解$Ax=0$主变量，特解"
   ]
  },
  {
   "cell_type": "markdown",
   "metadata": {},
   "source": [
    "用算法解出$Ax=0$,开始吧"
   ]
  },
  {
   "cell_type": "markdown",
   "metadata": {},
   "source": [
    "$A=\n",
    "\\begin{bmatrix}\n",
    "1 & 2 & 2 & 2\\\\\n",
    "2 & 4 & 6 & 8\\\\\n",
    "3 & 6 & 8 & 10\\\\\n",
    "\\end{bmatrix}\n",
    "$，会发现列二是列一的倍数，它们的方向是一样的，即它们是相关的，而行一+行二也等于行三，因此行三也与前两行相关，这在消元中肯定会发现"
   ]
  },
  {
   "cell_type": "markdown",
   "metadata": {},
   "source": [
    "在消元的过程中，零空间不会改变，这一点非常重要，通过消元$Ax=0$，从一个方程中减去另一个方程的倍数\n",
    "解不会改变，即零空间不会改变，实际上，这里改变的是列空间，所以随消元不变的是方程组的解"
   ]
  },
  {
   "cell_type": "markdown",
   "metadata": {},
   "source": [
    "$$\n",
    "A=\\begin{bmatrix}\n",
    "1 & 2 & 2 & 2\\\\\n",
    "2 & 4 & 6 & 8\\\\\n",
    "3 & 6 & 8 & 10\\\\\n",
    "\\end{bmatrix}\n",
    "\\underrightarrow{r_{3}-3r_{1}\\\\{r_{2}-2r_{1}}\\\\{r_{3}与r_{2}交换}}\n",
    "\\begin{bmatrix}\n",
    "\\underline{1} &2 & 2 & 2\\\\\n",
    "0 & 0 &\\underline{2} & 4\\\\\n",
    "0 & 0 & 0 & 0\\\\\n",
    "\\end{bmatrix}\n",
    "=U\n",
    "$$\n",
    "主变量（pivot variable，下划线元素）的个数为2，即矩阵$A$的秩（rank）为2，即$r=2$。\n",
    "\n",
    "主变量所在的列为主列（pivot column），其余列为自由列（free column）。\n",
    "自由列中的变量为自由变量（free variable），自由变量的个数为$n-r=4-2=2$。\n",
    "自由列表示，可以自由或任意分配数值。给这些未知数，给$x_{2}$,$x_{4}$，列二和列四的乘数是任意的。因此$x_{2}$,$x_{4}$可任取，解出$x_{1}$,$x_{3}$即可\n",
    "- 令$x_{2}=1$,$x_{4}=0$，解得$x=c_1\\begin{bmatrix}-2\\\\1\\\\0\\\\0\\\\\\end{bmatrix}$\n",
    "- 再令$x_{2}=0$,$x_{4}=1$解得$x=c_2\\begin{bmatrix}2\\\\0\\\\-2\\\\1\\\\\\end{bmatrix}$\n",
    "- 即$x=c_1\\begin{bmatrix}-2\\\\1\\\\0\\\\0\\\\\\end{bmatrix}+c_2\\begin{bmatrix}2\\\\0\\\\-2\\\\1\\\\\\end{bmatrix}$"
   ]
  },
  {
   "cell_type": "markdown",
   "metadata": {},
   "source": [
    "### - 简化行阶梯形"
   ]
  },
  {
   "cell_type": "markdown",
   "metadata": {},
   "source": [
    "还能进一步将$U$简化为$R$（Reduced row echelon From）-简化行阶梯形。"
   ]
  },
  {
   "cell_type": "markdown",
   "metadata": {},
   "source": [
    "在简化行阶梯形式中，主元上下的元素都是$0$：\n",
    "$$\n",
    "U=\n",
    "\\begin{bmatrix}\n",
    "\\underline{1} & 2 & 2 & 2\\\\\n",
    "0 & 0 & \\underline{2} & 4\\\\\n",
    "0 & 0 & 0 & 0\\\\\n",
    "\\end{bmatrix}\n",
    "\\underrightarrow{化简}\n",
    "\\begin{bmatrix}\n",
    "\\underline{1} & 2 & 0 & -2\\\\\n",
    "0 & 0 & \\underline{1} & 2\\\\\n",
    "0 & 0 & 0 & 0\\\\\n",
    "\\end{bmatrix}\n",
    "=R\n",
    "$$"
   ]
  },
  {
   "cell_type": "markdown",
   "metadata": {},
   "source": [
    "将$R$矩阵中的主变量放在一起，自由变量放在一起（进行列交换）,得到:"
   ]
  },
  {
   "cell_type": "markdown",
   "metadata": {},
   "source": [
    "$$\n",
    "R=\n",
    "\\begin{bmatrix}\n",
    "\\underline{1} & 2 & 0 & -2 \\\\\n",
    "0 & 0 &\\underline{1} & 2\\\\\n",
    "0 & 0 & 0 & 0\\\\\n",
    "\\end{bmatrix}\n",
    "\\underrightarrow{列交换}\n",
    "\\left[\n",
    "\\begin{array}{c c | c c}\n",
    "1 & 0 & 2 & -2\\\\\n",
    "0 & 1 & 0 & 2\\\\\n",
    "\\hline\n",
    "0 & 0 & 0 & 0\\\\\n",
    "\\end{array}\n",
    "\\right]\n",
    "=\n",
    "\\begin{bmatrix}\n",
    "I & F \\\\\n",
    "0 & 0 \\\\\n",
    "\\end{bmatrix}\n",
    "\\textrm{,其中}I\\textrm{为单位矩阵，}F\\textrm{为自由变量组成的矩阵}\n",
    "$$"
   ]
  },
  {
   "cell_type": "markdown",
   "metadata": {},
   "source": [
    "即有零空间矩阵$N$，有$RN$=0,\n",
    "$$\n",
    "\\begin{bmatrix}\n",
    "I & F\n",
    "\\end{bmatrix}\n",
    "\\begin{bmatrix}\n",
    "N\n",
    "\\end{bmatrix} = 0\n",
    "$$令$$ N=\\begin{bmatrix}\n",
    "x_{pivot} \\\\\n",
    "x_{free} \\\\\n",
    "\\end{bmatrix}=0$$\n",
    "什么$N$能得到$RN$=0呢，很显然$$N=\\begin{bmatrix}-F \\\\ I\\end{bmatrix}$$时满足\n",
    "$$\n",
    "\\begin{bmatrix}\n",
    "I & F\n",
    "\\end{bmatrix}\n",
    "\\begin{bmatrix}-F \\\\ I\\end{bmatrix}=0\n",
    "$$"
   ]
  },
  {
   "cell_type": "markdown",
   "metadata": {},
   "source": [
    "\n",
    "在本例中\n",
    "$\n",
    "N=\n",
    "\\begin{bmatrix}\n",
    "-2 & 2 \\\\\n",
    "0 & -2 \\\\\n",
    "1 & 0 \\\\\n",
    "0 & 1 \\\\\n",
    "\\end{bmatrix}\n",
    "$，与上面求得的两个$x$特解一致。"
   ]
  },
  {
   "cell_type": "markdown",
   "metadata": {},
   "source": [
    "举个例子：$\n",
    "A=\n",
    "\\begin{bmatrix}\n",
    "1 & 2 & 3 \\\\\n",
    "2 & 4 & 6 \\\\\n",
    "2 & 6 & 8 \\\\\n",
    "2 & 8 & 10 \\\\\n",
    "\\end{bmatrix}\n",
    "\\underrightarrow{消元}\n",
    "\\begin{bmatrix}\n",
    "1 & 2 & 3 \\\\\n",
    "0 & 2 & 2 \\\\\n",
    "0 & 0 & 0 \\\\\n",
    "0 & 0 & 0 \\\\\n",
    "\\end{bmatrix}\n",
    "\\underrightarrow{r_{2}/2\\\\r_{1}-r_{2}}\n",
    "\\begin{bmatrix}\n",
    "1 & 0 & 1 \\\\\n",
    "0 & 1 & 1 \\\\\n",
    "0 & 0 & 0 \\\\\n",
    "0 & 0 & 0 \\\\\n",
    "\\end{bmatrix}\n",
    "=R\n",
    "$\n",
    "矩阵rank = 2，有$2$个主变量，$1$个自由变量，取自由变量$x_3=1$，求得特解\n",
    "$\n",
    "x=\\begin{bmatrix}\n",
    "-1 \\\\\n",
    "-1 \\\\\n",
    "1 \\\\\n",
    "\\end{bmatrix}=\\begin{bmatrix}-F \\\\ I\\end{bmatrix}\n",
    "$\n",
    "即$Ax=0$的解为：$\n",
    "x=c\\begin{bmatrix}\n",
    "-1 \\\\\n",
    "-1 \\\\\n",
    "1 \\\\\n",
    "\\end{bmatrix}\n",
    "$"
   ]
  },
  {
   "cell_type": "code",
   "execution_count": null,
   "metadata": {
    "collapsed": true
   },
   "outputs": [],
   "source": []
  }
 ],
 "metadata": {
  "kernelspec": {
   "display_name": "Python 3",
   "language": "python",
   "name": "python3"
  },
  "language_info": {
   "codemirror_mode": {
    "name": "ipython",
    "version": 3
   },
   "file_extension": ".py",
   "mimetype": "text/x-python",
   "name": "python",
   "nbconvert_exporter": "python",
   "pygments_lexer": "ipython3",
   "version": "3.6.2"
  }
 },
 "nbformat": 4,
 "nbformat_minor": 2
}
