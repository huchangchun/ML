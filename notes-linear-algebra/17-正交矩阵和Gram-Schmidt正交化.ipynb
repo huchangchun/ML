{
 "cells": [
  {
   "cell_type": "markdown",
   "metadata": {},
   "source": [
    "# 正交矩阵(Orthogonal Matrix)和Gram-Schmidt"
   ]
  },
  {
   "cell_type": "markdown",
   "metadata": {},
   "source": [
    "这一讲我们将介绍正交性，使用正交基或者一个经过正交的矩阵将使计算更加简单，通过Gram-Schmidt过程从\n",
    "任意的基产生正交基，正交基将张成和原来的基张成同样的空间。"
   ]
  },
  {
   "cell_type": "markdown",
   "metadata": {},
   "source": [
    "### 标准正交向量（Orthonormal Vectors）\n",
    "\n",
    "$q_i^Tq_j = \\begin{cases}0\\quad i\\neq j\\\\1\\quad i=j\\end{cases}$\n",
    "\n",
    "我们将标准正交向量放入矩阵中，有$Q= \\Bigg[q_1 q_2 \\cdots q_n\\Bigg]$\n",
    "\n",
    "根据标准正交向量的定义，计算$Q^TQ = \\begin{bmatrix} & q_1^T & \\\\ & q_2^T & \\\\ & \\vdots & \\\\ & q_n^T & \\end{bmatrix}\\Bigg[q_1 q_2 \\cdots q_n\\Bigg] = I$\n",
    "\n",
    "即$Q^TQ = \\begin{bmatrix}1&0&\\cdots&0\\\\0&1&\\cdots&0\\\\\\vdots&\\vdots&\\ddots&\\vdots\\\\0&0&\\cdots&1\\end{bmatrix}=I$\n",
    "我们把$Q$称为标准正交矩阵；\n",
    "\n",
    "特别的当$Q$恰好是方阵时，由于正交性，易得$Q$是可逆的，又$Q^TQ=I$,所以$Q^T = Q^{-1}$"
   ]
  },
  {
   "cell_type": "markdown",
   "metadata": {},
   "source": [
    "举个置换矩阵例子，如果$Q=\\begin{bmatrix}0&0&1\\\\1&0&0\\\\0&1&0\\end{bmatrix}$,则$Q^T = \\begin\n",
    "{bmatrix}0&1&0\\\\0&0&1\\\\1&0&0\\end{bmatrix}$,易得$Q^TQ=I$.\n",
    "\n",
    "$Q$和$Q^T$都是正交矩阵\n",
    "\n",
    "使用上一讲的例子$Q=\\begin{bmatrix}\\cos\\theta&-\\sin\\theta\\\\\\sin\\theta&\\cos\\theta\\end{bmatrix}$，列向量长度为$1$，且列向量相互正交。\n",
    "\n",
    "矩阵$\\begin{bmatrix}1&1\\\\1&-1\\end{bmatrix}$不是正交矩阵，但是我们可以调整这个矩阵使其正交\n",
    "$Q=\\frac{1}{\\sqrt 2}\\begin{bmatrix}1&1\\\\1&-1\\end{bmatrix}$,这个例子通过求单位向量，除以向量的长度从而得到正交矩阵。\n"
   ]
  },
  {
   "cell_type": "markdown",
   "metadata": {},
   "source": [
    "## 正交矩阵的好处"
   ]
  },
  {
   "cell_type": "markdown",
   "metadata": {},
   "source": [
    "假设$Q$是正交矩阵，则投影到$Q$列空间的矩阵是：\n",
    "$P = Q^T(Q^TQ)^{-1}Q^T$\n",
    "\n",
    "如果$Q$为标准正交，则$Q^TQ = I$ 并且$P = QQ^T$"
   ]
  },
  {
   "cell_type": "markdown",
   "metadata": {},
   "source": [
    "如果$Q$是方阵，$QQ^T = I$ ,$P = I$ 因为$Q$的列空间张成了整个空间"
   ]
  },
  {
   "cell_type": "markdown",
   "metadata": {},
   "source": [
    "如果我们的基是标准正交，我们计算的$A^TA \\hat x = A^Tb$,将$A$替换为$Q$变为\n",
    "$Q^TQ\\hat x = Q^Tb$,因为$Q^TQ = I$,所有$\\hat x = Q^T\\overrightarrow b$\n",
    "\n",
    "分解来看$\\hat x$的分量$\\hat x_{i} = q^T_{i}\\overrightarrow b$,这个式子在很多数学领域都有重要作用"
   ]
  },
  {
   "cell_type": "markdown",
   "metadata": {},
   "source": [
    "## Gram-Schmidt正交化"
   ]
  },
  {
   "cell_type": "markdown",
   "metadata": {},
   "source": [
    "我们从两个线性无关向量$a， b$开始并且想找到向量$q_1, q_2$张成同样的空间，我们通过与$a， b$张成同样空间的正交的向量$A,B$来寻找，然后将A,B转化为单位向量$q_1 = \\frac{A}{\\left\\|A\\right\\|},q_2=\\frac{B}{\\left\\|B\\right\\|}$\n",
    "\n",
    "* 让$A = a$\n",
    "* 接下来将b投影在$A$的方向量得到B,投影向量中误差向量$e = b-p,A^T(b-\\hat x A)=0, \\hat x = \\frac{A^Tb}{A^TA}, p=xA = \\frac{A^Tb}{A^TA}A$,\n",
    "\n",
    "即$B = b-\\frac{A^Tb}{A^TA}A$ .检验一下$A \\bot B$:\n",
    "\n",
    "$A^TB = A^Tb- A^T\\frac{A^Tb}{A^TA}A=0$\n",
    "\n",
    "如果我们有三个线性无关的向量$a,b,c$则我们现需要求它们的正交向量$A,B,C$，再将它们单位化，变为标准向量，$q_1 = \\frac{A}{\\left\\|A\\right\\|},q_2=\\frac{B}{\\left\\|B\\right\\|},q_3=\\frac{C}{\\left\\|C\\right\\|}$;\n",
    "\n",
    "* 前两个向量$A,B$已经得到了，现在需要第三个向量同时正交于$A,B$;\n",
    "* 依然沿用上面的方法，从$c$中减去$A,B$上的分量，得到正交于$A,B$的$C$:\n",
    "\n",
    "$C = c-p_A-p_B = c - \\frac{A^Tc}{A^TA}A - \\frac{{B^T}c}{{B^T}B}B$"
   ]
  },
  {
   "cell_type": "markdown",
   "metadata": {},
   "source": [
    "现在我们试验一下推导出来的公式，$a=\\begin{bmatrix}1\\\\1\\\\1\\end{bmatrix},b=\\begin{bmatrix}1\\\\0\\\\2\\end{bmatrix}$:\n",
    "\n",
    "* 则$A = a = \\begin{bmatrix}1\\\\1\\\\1\\end{bmatrix}$;\n",
    "* 根据公式$B = b - \\frac{A^Ta}{A^TA}A =\\begin{bmatrix}1\\\\0\\\\2\\end{bmatrix}-\\frac{3}{3}\\begin{bmatrix}1\\\\1\\\\1\\end{bmatrix} = \\begin{bmatrix}0\\\\-1\\\\1\\end{bmatrix}$,($\\frac{A^Ta}{A^TA} = \\frac{3}{3}$)"
   ]
  },
  {
   "cell_type": "markdown",
   "metadata": {},
   "source": [
    "* 单位化：我们得到：\n",
    "$Q = \\begin{bmatrix}q_1&q_2\\end{bmatrix} = \n",
    "q_1 = \\begin{bmatrix}\\frac{1}{\\sqrt{3}}& 0\\\\\\frac{1}{\\sqrt 3}&-\\frac{1}{\\sqrt 2}\\\\\\frac{1}{\\sqrt{3}}&\\frac{1}{\\sqrt 2}\\end{bmatrix}$\n",
    "\n",
    "$Q$列空间是$a,b$张成的平面,对比原来的矩阵$D=\\begin{bmatrix}1&1\\\\1&0\\\\1&2\\end{bmatrix}$，有$D, Q$的列空间是相同的，我们只是将原来的基标准正交化了。\n",
    "\n",
    "我们曾经用矩阵的眼光审视消元法，有$A=LU$。同样的，我们也用矩阵表达标准正交化，$A=QR$。设矩阵$A$有两个列向量$\\Bigg[a_1 a_2\\Bigg]$，则标准正交化后有$\\Bigg[a_1 a_2\\Bigg]=\\Bigg[q_1 q_2\\Bigg]\\begin{bmatrix}a_1^Tq_1&a_2^Tq_1\\\\a_1^Tq_2&a_2^Tq_2\\end{bmatrix}$，而左下角的$a_1^Tq_2$始终为$0$，因为Gram-Schmidt正交化总是使得$a_1\\bot q_2$，后来构造的向量总是正交于先前的向量。所以这个$R$矩阵是一个上三角矩阵。"
   ]
  },
  {
   "cell_type": "code",
   "execution_count": null,
   "metadata": {
    "collapsed": true
   },
   "outputs": [],
   "source": []
  }
 ],
 "metadata": {
  "kernelspec": {
   "display_name": "Python 3",
   "language": "python",
   "name": "python3"
  },
  "language_info": {
   "codemirror_mode": {
    "name": "ipython",
    "version": 3
   },
   "file_extension": ".py",
   "mimetype": "text/x-python",
   "name": "python",
   "nbconvert_exporter": "python",
   "pygments_lexer": "ipython3",
   "version": "3.6.2"
  }
 },
 "nbformat": 4,
 "nbformat_minor": 2
}
