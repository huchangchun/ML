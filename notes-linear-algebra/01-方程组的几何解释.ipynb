{
 "cells": [
  {
   "cell_type": "markdown",
   "metadata": {},
   "source": [
    "# 第一讲：方程组的几何解释"
   ]
  },
  {
   "cell_type": "markdown",
   "metadata": {},
   "source": [
    "从“求解线性方程组开始”：n个未知数，n个方程，假设：\n",
    "方程组有$2$个未知数，一共有$2$\n",
    "个方程，分别来看方程组的“行图像”和“列图像”。\n",
    "有方程组$\\begin{cases}2x&-y&=0\\\\-x&+2y&=3\\end{cases}$,写作矩阵形式$\\begin{bmatrix}2&-1\\\\-1&2\\end{bmatrix}\\begin{bmatrix}x\\\\y\\end{bmatrix}=\\begin{bmatrix}0\\\\3\\end{bmatrix}$\n",
    "通常把第一个矩阵称为系数矩阵$A$,第二个矩阵称为向量$x$,将第三个矩阵称为向量$b$,于是线性方程组可表示为$Ax=b$"
   ]
  },
  {
   "cell_type": "code",
   "execution_count": 5,
   "metadata": {},
   "outputs": [
    {
     "data": {
      "image/png": "[encoded data removed]",
      "text/plain": [
       "<matplotlib.figure.Figure at 0xce97670>"
      ]
     },
     "metadata": {},
     "output_type": "display_data"
    }
   ],
   "source": [
    "%matplotlib inline\n",
    "import matplotlib.pyplot as plt\n",
    "import numpy as np\n",
    "import pandas as pd\n",
    "import seaborn as sns\n",
    "x = [-2,2,-2,2]\n",
    "y = [-4,4,0.5,2.5]\n",
    "fig = plt.figure()\n",
    "plt.axhline(y = 0,c = 'black') #画y轴\n",
    "plt.axvline(x = 0,c = 'black') #画x轴\n",
    "plt.plot(x[:2],y[:2],x[2:],y[2:])\n",
    "plt.draw()"
   ]
  },
  {
   "cell_type": "code",
   "execution_count": 6,
   "metadata": {
    "collapsed": true
   },
   "outputs": [],
   "source": [
    "plt.close(fig)"
   ]
  },
  {
   "cell_type": "markdown",
   "metadata": {},
   "source": [
    "上图是直角坐标系中两直线相交的情况，接下来按照方程组\n",
    "$x\\begin{bmatrix}2\\\\-1\\end{bmatrix}+y\\begin{bmatrix}-1\\\\2\\end{bmatrix}=\\begin{bmatrix}0\\\\3\\end{bmatrix}$ (我们把第一个向量称作$col_1$,第二个向量称作$col_2$，要使等式成立需要第一个向量加上两倍的第二个向量，即$1\\begin{bmatrix}2\\\\-1\\end{bmatrix}+2\\begin{bmatrix}-1\\\\2\\end{bmatrix}=\\begin{bmatrix}0\\\\3\\end{bmatrix}$ \n",
    "在二维平面上画出上面的列向量："
   ]
  },
  {
   "cell_type": "code",
   "execution_count": 16,
   "metadata": {},
   "outputs": [
    {
     "data": {
      "image/png": "[encoded data removed]",
      "text/plain": [
       "<matplotlib.figure.Figure at 0xcfa7ad0>"
      ]
     },
     "metadata": {},
     "output_type": "display_data"
    }
   ],
   "source": [
    "from functools import partial\n",
    "fig = plt.figure()\n",
    "plt.axhline(y= 0,c='black')\n",
    "plt.axvline(x= 0,c='black')\n",
    "ax = plt.gca()\n",
    "#设置坐标轴范围\n",
    "ax.set_xlim(-2.5,2,5)\n",
    "ax.set_ylim(-3,4) \n",
    "arrow_vector = partial(plt.arrow, width=0.01,head_width=0.1,head_length =0.2,length_includes_head=True)\n",
    "arrow_vector(0,0,2,-1,color='g')\n",
    "arrow_vector(0,0,-1,2,color='c')\n",
    "arrow_vector(2,-1,-2,4,color='b')\n",
    "arrow_vector(0,0,0,3,color='r',width=0.04)\n",
    "plt.draw()\n"
   ]
  },
  {
   "cell_type": "code",
   "execution_count": 14,
   "metadata": {},
   "outputs": [],
   "source": [
    "plt.close(fig)"
   ]
  },
  {
   "cell_type": "markdown",
   "metadata": {},
   "source": [
    "上图中，绿色向量col1与蓝向量（两倍的绿向量col2）合成红向量b，$x\\begin{bmatrix}2\\\\-1\\end{bmatrix}+y\\begin{bmatrix}-1\\\\2\\end{bmatrix}=\\begin{bmatrix}0\\\\3\\end{bmatrix}$ \n",
    "col1,col2的某种线性组合得到了向量b,那么col1,col2的所有线性组合能够得到什么结果？它们将铺满\n",
    "整个平面。"
   ]
  },
  {
   "cell_type": "markdown",
   "metadata": {},
   "source": [
    "下面进入三个未知数的方程组：\n",
    "$\\begin{cases}2x&-y&&=0\\\\-x&+2y&-z&=-1\\\\&-3y&+4z&=4\\end{cases}$,写作矩阵形式\n",
    "$A =\\begin{bmatrix}2&-1&0\\\\-1&2&-1\\\\0&-3&4\\end{bmatrix},\\\n",
    "b=\\begin{bmatrix}0\\\\-1\\\\4\\end{bmatrix}$\n",
    "在三维直角坐标系中，每一个方程将确定一个平面，而例子中的三个平面会相交于一点，这个点就是方程组的解。\n",
    "同样的将方程组写成向量的线形组合，观察列图像：\n",
    "$x\\begin{bmatrix}2\\\\-1\\\\0\\end{bmatrix}+y\\begin{bmatrix}-1\\\\2\\\\-3\\end{bmatrix}+z\\begin{bmatrix}0\\\\-1\\\\4\\end{bmatrix}=\\begin{bmatrix}0\\\\-1\\\\4\\end{bmatrix}$。老师特意安排的例子中最后一个列向量恰巧等于等式右边的$b$向量，所以我们需要的线形组合为$x=0,y=0, z=1$，假设令$b=\\begin{bmatrix}1\\\\1\\\\-3\\end{bmatrix}$，则需要的线形组合为$x=1，y=1,z=0$."
   ]
  },
  {
   "cell_type": "markdown",
   "metadata": {},
   "source": [
    "我们并不能这么轻易的求出正确的线形组合，所以下一讲将介绍消元法。\n",
    "现在我们需要考虑，对于任意的$b$，是否都能求解$Ax=b$？用列向量线形组合的观点阐述就是：\n",
    "列向量的线形组合能否覆盖整个三维向量空间？对于上面这个例子答案是肯定的，这个例子中的$A$是我们喜欢的矩阵\n",
    "类型，但是对另一些矩阵答案是否定的，那么在什么情况下，三个向量的线形组合得不到$b$？"
   ]
  },
  {
   "cell_type": "markdown",
   "metadata": {},
   "source": [
    "---如果三个向量再同一个平面上，问题就出现了--那么他们的线形组合也一定都在这个平面上，例如：\n",
    "$col_3 = col_1 + col_2$,那么不管怎么组合，这三个向量的结果都逃不出这个平面，因此，当$b$在平面内，\n",
    "方程组有解，而当$b$不在平面内，这三个列向量就无法构造出$b$,在后面的课程中会了解到这种情形称为奇异矩阵或者称矩阵不可逆"
   ]
  },
  {
   "cell_type": "markdown",
   "metadata": {},
   "source": [
    "接下来介绍方程的矩阵形式$Ax=b$，这是一种乘法运算，举个例子，取$A=\\begin{bmatrix}2&5\\\\1&3\\end{bmatrix},\\ x=\\begin{bmatrix}1\\\\2\\end{bmatrix}$,\n",
    "来看如何计算矩阵乘以向量："
   ]
  },
  {
   "cell_type": "markdown",
   "metadata": {},
   "source": [
    "我们使用列向量线形组合的方式，一次计算一次：\n",
    "$\\begin{bmatrix}2&5\\\\1&3\\end{bmatrix}\\begin{bmatrix}1\\\\2\\end{bmatrix}=1\\begin{bmatrix}2\\\\1\\end{bmatrix}+2\\begin{bmatrix}5\\\\3\\end{bmatrix}=\\begin{bmatrix}12\\\\7\\end{bmatrix}$\n",
    "\n",
    "另一种方法，使用向量内积，矩阵第一行向量点乘$x$向量：\n",
    "$\\begin{bmatrix}2&5\\end{bmatrix}\\cdot\\begin{bmatrix}1&2\\end{bmatrix}^T=12,\\ \\begin{bmatrix}1&3\\end{bmatrix}\\cdot\\begin{bmatrix}1&2\\end{bmatrix}^T=7$。"
   ]
  },
  {
   "cell_type": "markdown",
   "metadata": {},
   "source": [
    " 教授建议使用第一种方法，将$Ax$看做$A$列向量的线性组合。"
   ]
  }
 ],
 "metadata": {
  "kernelspec": {
   "display_name": "Python 3",
   "language": "python",
   "name": "python3"
  },
  "language_info": {
   "codemirror_mode": {
    "name": "ipython",
    "version": 3
   },
   "file_extension": ".py",
   "mimetype": "text/x-python",
   "name": "python",
   "nbconvert_exporter": "python",
   "pygments_lexer": "ipython3",
   "version": "3.6.3"
  }
 },
 "nbformat": 4,
 "nbformat_minor": 2
}
