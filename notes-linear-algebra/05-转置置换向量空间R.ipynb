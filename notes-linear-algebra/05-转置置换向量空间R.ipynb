{
 "cells": [
  {
   "cell_type": "markdown",
   "metadata": {},
   "source": [
    "# 第五讲：转置，置换，向量空间R"
   ]
  },
  {
   "cell_type": "markdown",
   "metadata": {},
   "source": [
    "### 置换矩阵（Permutation Matrix）"
   ]
  },
  {
   "cell_type": "markdown",
   "metadata": {},
   "source": [
    "$P$为置换矩阵，对任意可逆矩阵$A$有：\n",
    "$PA = LU$\n",
    "$n$阶方阵的置换矩阵$P$有$\\binom{n}{1}=n!$个\n",
    "对置换矩阵$P$，有$P^TP$ = $I$ （下面可以证明）\n",
    "即$P^T = P^{-1}$\n",
    "\n",
    "转置矩阵（Transpos Matrix)\n",
    "$$\n",
    "(A^T)_{ij} = (A)_{ji}\n",
    "$$\n",
    "对称矩阵(Symmetrix Matrix)\n",
    "$$\n",
    "A^T = A\n",
    "$$\n",
    "对任意矩阵$R$有$R^TR$为对称矩阵：\n",
    "\n",
    "$$\n",
    "(R^TR)^T = (R)^T(R^T)^T = R^TR \\\\\n",
    "\\textrm{即}(R^TR)^T = R^TR\n",
    "$$\n",
    "向量空间（VectorSpace)\n",
    "所有向量都必须包含原点（Origin)\n",
    "向量空间中任意向量的数乘，求和运算得到的向量也在该空间中。\n",
    "即向量空间要满足加法封闭和数乘封闭。\n"
   ]
  },
  {
   "cell_type": "code",
   "execution_count": 8,
   "metadata": {
    "collapsed": true
   },
   "outputs": [],
   "source": [
    "import numpy as np"
   ]
  },
  {
   "cell_type": "code",
   "execution_count": 9,
   "metadata": {},
   "outputs": [
    {
     "data": {
      "text/plain": [
       "array([[0, 0, 1],\n",
       "       [1, 0, 0],\n",
       "       [0, 1, 0]])"
      ]
     },
     "execution_count": 9,
     "metadata": {},
     "output_type": "execute_result"
    }
   ],
   "source": [
    "a = np.array([[0,1,0],\n",
    "              [0,0,1],\n",
    "              [1,0,0]])\n",
    "a.T"
   ]
  },
  {
   "cell_type": "code",
   "execution_count": 10,
   "metadata": {},
   "outputs": [
    {
     "data": {
      "text/plain": [
       "array([[1, 0, 0],\n",
       "       [0, 1, 0],\n",
       "       [0, 0, 1]])"
      ]
     },
     "execution_count": 10,
     "metadata": {},
     "output_type": "execute_result"
    }
   ],
   "source": [
    "a.T.dot(a)"
   ]
  },
  {
   "cell_type": "code",
   "execution_count": 11,
   "metadata": {},
   "outputs": [
    {
     "data": {
      "text/plain": [
       "array([[3, 4, 2],\n",
       "       [1, 5, 6],\n",
       "       [1, 1, 3]])"
      ]
     },
     "execution_count": 11,
     "metadata": {},
     "output_type": "execute_result"
    }
   ],
   "source": [
    "b = np.array([[3,1,1],\n",
    "              [4,5,1],\n",
    "              [2,6,3]])\n",
    "b.T"
   ]
  },
  {
   "cell_type": "code",
   "execution_count": 12,
   "metadata": {},
   "outputs": [
    {
     "data": {
      "text/plain": [
       "array([[29, 35, 13],\n",
       "       [35, 62, 24],\n",
       "       [13, 24, 11]])"
      ]
     },
     "execution_count": 12,
     "metadata": {},
     "output_type": "execute_result"
    }
   ],
   "source": [
    "b.T.dot(b)"
   ]
  }
 ],
 "metadata": {
  "kernelspec": {
   "display_name": "Python 3",
   "language": "python",
   "name": "python3"
  },
  "language_info": {
   "codemirror_mode": {
    "name": "ipython",
    "version": 3
   },
   "file_extension": ".py",
   "mimetype": "text/x-python",
   "name": "python",
   "nbconvert_exporter": "python",
   "pygments_lexer": "ipython3",
   "version": "3.6.2"
  }
 },
 "nbformat": 4,
 "nbformat_minor": 2
}
