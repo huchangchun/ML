{
 "cells": [
  {
   "cell_type": "markdown",
   "metadata": {},
   "source": [
    "# 第八讲：求解$Ax=b$：可解和解的结构"
   ]
  },
  {
   "cell_type": "markdown",
   "metadata": {},
   "source": [
    "还是沿用上一讲的例子：$A=\n",
    "\\begin{bmatrix}\n",
    "1 & 2 & 2 & 2\\\\\n",
    "2 & 4 & 6 & 8\\\\\n",
    "3 & 6 & 8 & 10\\\\\n",
    "\\end{bmatrix}$ ，求$Ax=b$的特解："
   ]
  },
  {
   "cell_type": "markdown",
   "metadata": {},
   "source": [
    "对于右侧向量$b$，将其加在$A$的后面，组成一个增广矩阵(Augmented matrix)\n",
    "$\\left[\\begin{array}{c|c}A & b\\end{array}\\right]$\n",
    "\n",
    "$$\n",
    "\\left[\n",
    "\\begin{array}{c c c c|c}\n",
    "1 & 2 & 2 & 2 & b_1 \\\\\n",
    "2 & 4 & 6 & 8 & b_2 \\\\\n",
    "3 & 6 & 8 & 10 & b_3 \\\\\n",
    "\\end{array}\n",
    "\\right]\n",
    "\\underrightarrow{消元}\n",
    "\\left[\n",
    "\\begin{array}{c c c c|c}\n",
    "1 & 2 & 2 & 2 & b_1 \\\\\n",
    "0 & 0 & 2 & 4 & b_2-2b_1 \\\\\n",
    "0 & 0 & 0 & 0 & b_3-b_2-b_1 \\\\\n",
    "\\end{array}\n",
    "\\right]\n",
    "$$\n"
   ]
  },
  {
   "cell_type": "markdown",
   "metadata": {},
   "source": [
    "有解的必要条件：$b_{3}-b_{2}-b_{1} = 0$"
   ]
  },
  {
   "cell_type": "markdown",
   "metadata": {},
   "source": [
    "讨论$b$满足什么条件才能让方程$Ax=b$有解（solvability condition on b）：当且仅当$b$属于$A$的列空间时。另一种描述：如果$A$的各行线性组合得到$0$行，则$b$端分量做同样的线性组合，结果也为$0$时，方程才有解。\n",
    "To  find  complete  solution to  $Ax=b$\n",
    "- Solve Particular Solution ($X_{particular}$)\n",
    "- Solve nullspace"
   ]
  },
  {
   "cell_type": "markdown",
   "metadata": {},
   "source": [
    "### 求特解过程：\n",
    "\n",
    "- 将所有自由变量设为0：set all free variables to zero\n",
    "- 解出主变量：Solve Ax = b for pivot variables"
   ]
  },
  {
   "cell_type": "markdown",
   "metadata": {},
   "source": [
    "假设$b_{3} = 6,b_{2} = 5,b_{1} = 1$,自由变量$x_{2}=x_{4}=0$,则有$\n",
    "\\Big\\lbrace\n",
    "\\begin{eqnarray*}\n",
    "x_1 & + & 2x_3& = & 1\\\\\n",
    "    &&2x_3& = & 3\\\\\n",
    "\\end{eqnarray*}\n",
    "$，解的$\n",
    "\\Big\\lbrace\n",
    "\\begin{eqnarray*}\n",
    "x_1 & = -2\\\\\n",
    "x_3 & = \\frac{3}{2}\\\\\n",
    "\\end{eqnarray*}\n",
    "$\n",
    "，代入$Ax=b$求得特解\n",
    "$\n",
    "x_p=\n",
    "\\begin{bmatrix}\n",
    "-2 \\\\ 0 \\\\ \\frac{3}{2} \\\\0\n",
    "\\end{bmatrix}\n",
    "$。"
   ]
  },
  {
   "cell_type": "markdown",
   "metadata": {},
   "source": [
    "### 求所有解："
   ]
  },
  {
   "cell_type": "markdown",
   "metadata": {},
   "source": [
    "$$\n",
    "\\Big\\lbrace\n",
    "\\begin{eqnarray}\n",
    "A & x_p & = &b\\\\\n",
    "A & x_n & = &0\\\\\n",
    "\\end{eqnarray}\n",
    "\\quad\n",
    "\\underrightarrow{两式相加}\n",
    "\\quad\n",
    "A(x_p+x_n)=b\n",
    "$$\n",
    "为什么可以这样？教授解释：If I have one solution ,one solution I can add on anything in the null space,because anything in the null space has a zero right-hand side,and I still have the correct right-hand side b,so that's my complete solution"
   ]
  },
  {
   "cell_type": "markdown",
   "metadata": {},
   "source": [
    "所以$Ax=b$的解集为其特解加上零空间\n",
    "$\n",
    "X_{complete}=\n",
    "\\begin{bmatrix}\n",
    "-2 \\\\0 \\\\ \\frac{3}{2} \\\\0\n",
    "\\end{bmatrix}\n",
    "+\n",
    "c_1\\begin{bmatrix}-2\\\\1\\\\0\\\\0\\\\\\end{bmatrix}\n",
    "+\n",
    "c_2\\begin{bmatrix}2\\\\0\\\\-2\\\\1\\\\\\end{bmatrix}\n",
    "$\n"
   ]
  },
  {
   "cell_type": "markdown",
   "metadata": {},
   "source": [
    "### 矩阵的秩"
   ]
  },
  {
   "cell_type": "markdown",
   "metadata": {},
   "source": [
    "对于$m \\times n$矩阵$A$，有矩阵$A$的秩$r \\leq min(m, n)$"
   ]
  },
  {
   "cell_type": "markdown",
   "metadata": {},
   "source": [
    "- 行满秩:\n",
    "\n",
    "- $r=m=n$情况：\n",
    "$\n",
    "A=\n",
    "\\begin{bmatrix}\n",
    "1 & 2 \\\\\n",
    "3 & 1 \\\\\n",
    "\\end{bmatrix}\n",
    "$，将得到一个可逆矩阵，其行最简形$\n",
    "R=I\n",
    "$,该矩阵的零空间只包含 $0$ 向量，$Ax=b$有解的条件是？此时不任意b总有解\n",
    "- $r=m<n$情况：\n",
    "$\n",
    "A=\n",
    "\\begin{bmatrix}\n",
    "1 & 2 & 6 & 5 \\\\\n",
    "3 & 1 & 1 & 1 \\\\\n",
    "\\end{bmatrix}\n",
    "$\n",
    "$\n",
    "R=\n",
    "\\begin{bmatrix}\n",
    "I & F \\\\\n",
    "\\end{bmatrix}\n",
    "$\n",
    "，消元后$rank(A)=2$，$\\forall b \\in R^m都有x \\neq 0的解$，因为此时$A$的列空间为$R^m$，$b \\in R^m$恒成立，组成$A$的零空间的自由变量有n-r个,这种情况下要么有一个，要么有无穷多解。"
   ]
  },
  {
   "cell_type": "markdown",
   "metadata": {},
   "source": [
    "- 列满秩$r=n<m$情况：\n",
    "$\n",
    "A=\n",
    "\\begin{bmatrix}\n",
    "1 & 3 \\\\\n",
    "2 & 1 \\\\\n",
    "6 & 1 \\\\\n",
    "5 & 1 \\\\\n",
    "\\end{bmatrix}\n",
    "$\n",
    "$\n",
    "R=\n",
    "\\begin{bmatrix}\n",
    "I  \\\\\n",
    "0 \\\\\n",
    "\\end{bmatrix}\n",
    "$\n",
    "，$rank(A)=2$，要使$Ax=b, b \\neq 0$有非零解，$b$必须取$A$中各列的线性组合，此时A的零空间中只有$0$向量。这种情况下要么存在一个解，我们成为特解即$x_{particular}$，如果b满足条件，要么0个解，当b部分分量不满足条件。此时只要求特解即可，不需要求零空间"
   ]
  },
  {
   "cell_type": "markdown",
   "metadata": {},
   "source": [
    "- $r<m，r<n$情况:\n",
    "$\n",
    "R=\n",
    "\\begin{bmatrix}\n",
    "I & F \\\\\n",
    "0 & 0\\\\\n",
    "\\end{bmatrix}\n",
    "$,这种情况要么无解，因为某些b分量可能不符合 $0=0$\n",
    "要么有无穷多解"
   ]
  },
  {
   "cell_type": "markdown",
   "metadata": {},
   "source": [
    "总结：\n",
    "\n",
    "$$\\begin{array}{c|c|c|c}r=m=n&r=n\\lt m&r=m\\lt n&r\\lt m,r\\lt n\\\\R=I&R=\\begin{bmatrix}I\\\\0\\end{bmatrix}&R=\\begin{bmatrix}I&F\\end{bmatrix}&R=\\begin{bmatrix}I&F\\\\0&0\\end{bmatrix}\\\\1\\ solution&0\\ or\\ 1\\ solution&\\infty\\ solution&0\\ or\\ \\infty\\ solution\\end{array}$$"
   ]
  }
 ],
 "metadata": {
  "kernelspec": {
   "display_name": "Python 3",
   "language": "python",
   "name": "python3"
  },
  "language_info": {
   "codemirror_mode": {
    "name": "ipython",
    "version": 3
   },
   "file_extension": ".py",
   "mimetype": "text/x-python",
   "name": "python",
   "nbconvert_exporter": "python",
   "pygments_lexer": "ipython3",
   "version": "3.6.2"
  }
 },
 "nbformat": 4,
 "nbformat_minor": 2
}
